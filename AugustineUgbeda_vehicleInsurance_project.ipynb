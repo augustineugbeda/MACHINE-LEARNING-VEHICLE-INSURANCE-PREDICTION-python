{
 "cells": [
  {
   "cell_type": "markdown",
   "metadata": {},
   "source": [
    "## AugustineUgbeda_vehicleinsurance_project \n",
    "the task here is to clean and perpare the data for further analysis"
   ]
  },
  {
   "cell_type": "code",
   "execution_count": 1,
   "metadata": {},
   "outputs": [],
   "source": [
    "import sklearn\n",
    "import pandas as pd\n",
    "import numpy as np\n",
    "import seaborn as sns\n",
    "import matplotlib as plt\n",
    "import datetime"
   ]
  },
  {
   "cell_type": "code",
   "execution_count": 2,
   "metadata": {},
   "outputs": [
    {
     "data": {
      "text/html": [
       "<div>\n",
       "<style scoped>\n",
       "    .dataframe tbody tr th:only-of-type {\n",
       "        vertical-align: middle;\n",
       "    }\n",
       "\n",
       "    .dataframe tbody tr th {\n",
       "        vertical-align: top;\n",
       "    }\n",
       "\n",
       "    .dataframe thead th {\n",
       "        text-align: right;\n",
       "    }\n",
       "</style>\n",
       "<table border=\"1\" class=\"dataframe\">\n",
       "  <thead>\n",
       "    <tr style=\"text-align: right;\">\n",
       "      <th></th>\n",
       "      <th>ID</th>\n",
       "      <th>Policy Start Date</th>\n",
       "      <th>Policy End Date</th>\n",
       "      <th>Gender</th>\n",
       "      <th>Age</th>\n",
       "      <th>First Transaction Date</th>\n",
       "      <th>No_Pol</th>\n",
       "      <th>Car_Category</th>\n",
       "      <th>Subject_Car_Colour</th>\n",
       "      <th>Subject_Car_Make</th>\n",
       "      <th>LGA_Name</th>\n",
       "      <th>State</th>\n",
       "      <th>ProductName</th>\n",
       "      <th>target</th>\n",
       "    </tr>\n",
       "  </thead>\n",
       "  <tbody>\n",
       "    <tr>\n",
       "      <th>0</th>\n",
       "      <td>0040R73</td>\n",
       "      <td>2010-05-14</td>\n",
       "      <td>2011-05-13</td>\n",
       "      <td>Male</td>\n",
       "      <td>30</td>\n",
       "      <td>2010-05-14</td>\n",
       "      <td>1</td>\n",
       "      <td>Saloon</td>\n",
       "      <td>Black</td>\n",
       "      <td>TOYOTA</td>\n",
       "      <td>NaN</td>\n",
       "      <td>NaN</td>\n",
       "      <td>Car Classic</td>\n",
       "      <td>0</td>\n",
       "    </tr>\n",
       "    <tr>\n",
       "      <th>1</th>\n",
       "      <td>0046BNK</td>\n",
       "      <td>2010-11-29</td>\n",
       "      <td>2011-11-28</td>\n",
       "      <td>Female</td>\n",
       "      <td>79</td>\n",
       "      <td>2010-11-29</td>\n",
       "      <td>1</td>\n",
       "      <td>JEEP</td>\n",
       "      <td>Grey</td>\n",
       "      <td>TOYOTA</td>\n",
       "      <td>NaN</td>\n",
       "      <td>NaN</td>\n",
       "      <td>Car Classic</td>\n",
       "      <td>1</td>\n",
       "    </tr>\n",
       "    <tr>\n",
       "      <th>2</th>\n",
       "      <td>005QMC3</td>\n",
       "      <td>2010-03-21</td>\n",
       "      <td>2011-03-20</td>\n",
       "      <td>Male</td>\n",
       "      <td>43</td>\n",
       "      <td>2010-03-21</td>\n",
       "      <td>1</td>\n",
       "      <td>Saloon</td>\n",
       "      <td>Red</td>\n",
       "      <td>TOYOTA</td>\n",
       "      <td>NaN</td>\n",
       "      <td>NaN</td>\n",
       "      <td>Car Classic</td>\n",
       "      <td>0</td>\n",
       "    </tr>\n",
       "    <tr>\n",
       "      <th>3</th>\n",
       "      <td>0079OHW</td>\n",
       "      <td>2010-08-21</td>\n",
       "      <td>2011-08-20</td>\n",
       "      <td>Male</td>\n",
       "      <td>2</td>\n",
       "      <td>2010-08-21</td>\n",
       "      <td>1</td>\n",
       "      <td>NaN</td>\n",
       "      <td>NaN</td>\n",
       "      <td>NaN</td>\n",
       "      <td>NaN</td>\n",
       "      <td>NaN</td>\n",
       "      <td>CarSafe</td>\n",
       "      <td>0</td>\n",
       "    </tr>\n",
       "    <tr>\n",
       "      <th>4</th>\n",
       "      <td>00BRP63</td>\n",
       "      <td>2010-08-29</td>\n",
       "      <td>2010-12-31</td>\n",
       "      <td>Entity</td>\n",
       "      <td>20</td>\n",
       "      <td>2010-08-29</td>\n",
       "      <td>3</td>\n",
       "      <td>NaN</td>\n",
       "      <td>NaN</td>\n",
       "      <td>NaN</td>\n",
       "      <td>Lagos</td>\n",
       "      <td>Lagos</td>\n",
       "      <td>Muuve</td>\n",
       "      <td>1</td>\n",
       "    </tr>\n",
       "  </tbody>\n",
       "</table>\n",
       "</div>"
      ],
      "text/plain": [
       "        ID Policy Start Date Policy End Date  Gender  Age  \\\n",
       "0  0040R73        2010-05-14      2011-05-13    Male   30   \n",
       "1  0046BNK        2010-11-29      2011-11-28  Female   79   \n",
       "2  005QMC3        2010-03-21      2011-03-20    Male   43   \n",
       "3  0079OHW        2010-08-21      2011-08-20    Male    2   \n",
       "4  00BRP63        2010-08-29      2010-12-31  Entity   20   \n",
       "\n",
       "  First Transaction Date  No_Pol Car_Category Subject_Car_Colour  \\\n",
       "0             2010-05-14       1       Saloon              Black   \n",
       "1             2010-11-29       1         JEEP               Grey   \n",
       "2             2010-03-21       1       Saloon                Red   \n",
       "3             2010-08-21       1          NaN                NaN   \n",
       "4             2010-08-29       3          NaN                NaN   \n",
       "\n",
       "  Subject_Car_Make LGA_Name  State  ProductName  target  \n",
       "0           TOYOTA      NaN    NaN  Car Classic       0  \n",
       "1           TOYOTA      NaN    NaN  Car Classic       1  \n",
       "2           TOYOTA      NaN    NaN  Car Classic       0  \n",
       "3              NaN      NaN    NaN      CarSafe       0  \n",
       "4              NaN    Lagos  Lagos        Muuve       1  "
      ]
     },
     "execution_count": 2,
     "metadata": {},
     "output_type": "execute_result"
    }
   ],
   "source": [
    "##bringing in the dataset\n",
    "vehicleinsurance=pd.read_csv(\"vehicle claim insurance data.csv\")\n",
    "vehicleinsurance.head()"
   ]
  },
  {
   "cell_type": "code",
   "execution_count": 3,
   "metadata": {},
   "outputs": [
    {
     "data": {
      "text/plain": [
       "(12079, 14)"
      ]
     },
     "execution_count": 3,
     "metadata": {},
     "output_type": "execute_result"
    }
   ],
   "source": [
    "###checking dimensions of the data\n",
    "vehicleinsurance.shape"
   ]
  },
  {
   "cell_type": "code",
   "execution_count": 4,
   "metadata": {},
   "outputs": [
    {
     "data": {
      "text/plain": [
       "ID                           0\n",
       "Policy Start Date            0\n",
       "Policy End Date              0\n",
       "Gender                     359\n",
       "Age                          0\n",
       "First Transaction Date       0\n",
       "No_Pol                       0\n",
       "Car_Category              3738\n",
       "Subject_Car_Colour        6962\n",
       "Subject_Car_Make          2476\n",
       "LGA_Name                  6476\n",
       "State                     6488\n",
       "ProductName                  0\n",
       "target                       0\n",
       "dtype: int64"
      ]
     },
     "execution_count": 4,
     "metadata": {},
     "output_type": "execute_result"
    }
   ],
   "source": [
    "##lookoing for NaN\n",
    "vehicleinsurance.isna().sum()"
   ]
  },
  {
   "cell_type": "markdown",
   "metadata": {},
   "source": [
    "#### REPLACING OF NA s WITH THE MODE"
   ]
  },
  {
   "cell_type": "code",
   "execution_count": 5,
   "metadata": {},
   "outputs": [],
   "source": [
    "vehicleinsurance[\"Gender\"]=vehicleinsurance[\"Gender\"].fillna((\"Others\"),inplace=False)\n",
    "vehicleinsurance[\"Car_Category\"]=vehicleinsurance[\"Car_Category\"].fillna(vehicleinsurance[\"Car_Category\"].mode()[0])\n",
    "vehicleinsurance[\"Subject_Car_Colour\"]=vehicleinsurance[\"Subject_Car_Colour\"].fillna(vehicleinsurance[\"Subject_Car_Colour\"].mode()[0])\n",
    "vehicleinsurance[\"Subject_Car_Make\"]=vehicleinsurance[\"Subject_Car_Make\"].fillna(vehicleinsurance[\"Subject_Car_Make\"].mode()[0])\n",
    "vehicleinsurance[\"LGA_Name\"]=vehicleinsurance[\"LGA_Name\"].fillna(vehicleinsurance[\"LGA_Name\"].mode()[0])\n",
    "vehicleinsurance[\"State\"]=vehicleinsurance[\"State\"].fillna(vehicleinsurance[\"State\"].mode()[0])\n"
   ]
  },
  {
   "cell_type": "code",
   "execution_count": 6,
   "metadata": {},
   "outputs": [
    {
     "data": {
      "text/plain": [
       "ID                        0\n",
       "Policy Start Date         0\n",
       "Policy End Date           0\n",
       "Gender                    0\n",
       "Age                       0\n",
       "First Transaction Date    0\n",
       "No_Pol                    0\n",
       "Car_Category              0\n",
       "Subject_Car_Colour        0\n",
       "Subject_Car_Make          0\n",
       "LGA_Name                  0\n",
       "State                     0\n",
       "ProductName               0\n",
       "target                    0\n",
       "dtype: int64"
      ]
     },
     "execution_count": 6,
     "metadata": {},
     "output_type": "execute_result"
    }
   ],
   "source": [
    "##reconfirming that replacement of Nas has taken effect\n",
    "vehicleinsurance.isna().sum()"
   ]
  },
  {
   "cell_type": "code",
   "execution_count": 7,
   "metadata": {},
   "outputs": [
    {
     "data": {
      "text/plain": [
       "(12079, 14)"
      ]
     },
     "execution_count": 7,
     "metadata": {},
     "output_type": "execute_result"
    }
   ],
   "source": [
    "#checking the new shape\n",
    "vehicleinsurance.shape"
   ]
  },
  {
   "cell_type": "code",
   "execution_count": 8,
   "metadata": {},
   "outputs": [
    {
     "data": {
      "text/plain": [
       "ID                        0\n",
       "Policy Start Date         0\n",
       "Policy End Date           0\n",
       "Gender                    0\n",
       "Age                       0\n",
       "First Transaction Date    0\n",
       "No_Pol                    0\n",
       "Car_Category              0\n",
       "Subject_Car_Colour        0\n",
       "Subject_Car_Make          0\n",
       "LGA_Name                  0\n",
       "State                     0\n",
       "ProductName               0\n",
       "target                    0\n",
       "dtype: int64"
      ]
     },
     "execution_count": 8,
     "metadata": {},
     "output_type": "execute_result"
    }
   ],
   "source": [
    "#reconfirm for Na\n",
    "vehicleinsurance.isna().sum()"
   ]
  },
  {
   "cell_type": "code",
   "execution_count": 9,
   "metadata": {},
   "outputs": [
    {
     "data": {
      "text/html": [
       "<div>\n",
       "<style scoped>\n",
       "    .dataframe tbody tr th:only-of-type {\n",
       "        vertical-align: middle;\n",
       "    }\n",
       "\n",
       "    .dataframe tbody tr th {\n",
       "        vertical-align: top;\n",
       "    }\n",
       "\n",
       "    .dataframe thead th {\n",
       "        text-align: right;\n",
       "    }\n",
       "</style>\n",
       "<table border=\"1\" class=\"dataframe\">\n",
       "  <thead>\n",
       "    <tr style=\"text-align: right;\">\n",
       "      <th></th>\n",
       "      <th>ID</th>\n",
       "      <th>Policy Start Date</th>\n",
       "      <th>Policy End Date</th>\n",
       "      <th>Gender</th>\n",
       "      <th>Age</th>\n",
       "      <th>First Transaction Date</th>\n",
       "      <th>No_Pol</th>\n",
       "      <th>Car_Category</th>\n",
       "      <th>Subject_Car_Colour</th>\n",
       "      <th>Subject_Car_Make</th>\n",
       "      <th>LGA_Name</th>\n",
       "      <th>State</th>\n",
       "      <th>ProductName</th>\n",
       "      <th>No_of_claims_3_mon_period</th>\n",
       "    </tr>\n",
       "  </thead>\n",
       "  <tbody>\n",
       "    <tr>\n",
       "      <th>0</th>\n",
       "      <td>0040R73</td>\n",
       "      <td>2010-05-14</td>\n",
       "      <td>2011-05-13</td>\n",
       "      <td>Male</td>\n",
       "      <td>30</td>\n",
       "      <td>2010-05-14</td>\n",
       "      <td>1</td>\n",
       "      <td>Saloon</td>\n",
       "      <td>Black</td>\n",
       "      <td>TOYOTA</td>\n",
       "      <td>Victoria Island</td>\n",
       "      <td>Lagos</td>\n",
       "      <td>Car Classic</td>\n",
       "      <td>0</td>\n",
       "    </tr>\n",
       "    <tr>\n",
       "      <th>1</th>\n",
       "      <td>0046BNK</td>\n",
       "      <td>2010-11-29</td>\n",
       "      <td>2011-11-28</td>\n",
       "      <td>Female</td>\n",
       "      <td>79</td>\n",
       "      <td>2010-11-29</td>\n",
       "      <td>1</td>\n",
       "      <td>JEEP</td>\n",
       "      <td>Grey</td>\n",
       "      <td>TOYOTA</td>\n",
       "      <td>Victoria Island</td>\n",
       "      <td>Lagos</td>\n",
       "      <td>Car Classic</td>\n",
       "      <td>1</td>\n",
       "    </tr>\n",
       "    <tr>\n",
       "      <th>2</th>\n",
       "      <td>005QMC3</td>\n",
       "      <td>2010-03-21</td>\n",
       "      <td>2011-03-20</td>\n",
       "      <td>Male</td>\n",
       "      <td>43</td>\n",
       "      <td>2010-03-21</td>\n",
       "      <td>1</td>\n",
       "      <td>Saloon</td>\n",
       "      <td>Red</td>\n",
       "      <td>TOYOTA</td>\n",
       "      <td>Victoria Island</td>\n",
       "      <td>Lagos</td>\n",
       "      <td>Car Classic</td>\n",
       "      <td>0</td>\n",
       "    </tr>\n",
       "    <tr>\n",
       "      <th>3</th>\n",
       "      <td>0079OHW</td>\n",
       "      <td>2010-08-21</td>\n",
       "      <td>2011-08-20</td>\n",
       "      <td>Male</td>\n",
       "      <td>2</td>\n",
       "      <td>2010-08-21</td>\n",
       "      <td>1</td>\n",
       "      <td>Saloon</td>\n",
       "      <td>Black</td>\n",
       "      <td>TOYOTA</td>\n",
       "      <td>Victoria Island</td>\n",
       "      <td>Lagos</td>\n",
       "      <td>CarSafe</td>\n",
       "      <td>0</td>\n",
       "    </tr>\n",
       "    <tr>\n",
       "      <th>4</th>\n",
       "      <td>00BRP63</td>\n",
       "      <td>2010-08-29</td>\n",
       "      <td>2010-12-31</td>\n",
       "      <td>Entity</td>\n",
       "      <td>20</td>\n",
       "      <td>2010-08-29</td>\n",
       "      <td>3</td>\n",
       "      <td>Saloon</td>\n",
       "      <td>Black</td>\n",
       "      <td>TOYOTA</td>\n",
       "      <td>Lagos</td>\n",
       "      <td>Lagos</td>\n",
       "      <td>Muuve</td>\n",
       "      <td>1</td>\n",
       "    </tr>\n",
       "  </tbody>\n",
       "</table>\n",
       "</div>"
      ],
      "text/plain": [
       "        ID Policy Start Date Policy End Date  Gender  Age  \\\n",
       "0  0040R73        2010-05-14      2011-05-13    Male   30   \n",
       "1  0046BNK        2010-11-29      2011-11-28  Female   79   \n",
       "2  005QMC3        2010-03-21      2011-03-20    Male   43   \n",
       "3  0079OHW        2010-08-21      2011-08-20    Male    2   \n",
       "4  00BRP63        2010-08-29      2010-12-31  Entity   20   \n",
       "\n",
       "  First Transaction Date  No_Pol Car_Category Subject_Car_Colour  \\\n",
       "0             2010-05-14       1       Saloon              Black   \n",
       "1             2010-11-29       1         JEEP               Grey   \n",
       "2             2010-03-21       1       Saloon                Red   \n",
       "3             2010-08-21       1       Saloon              Black   \n",
       "4             2010-08-29       3       Saloon              Black   \n",
       "\n",
       "  Subject_Car_Make         LGA_Name  State  ProductName  \\\n",
       "0           TOYOTA  Victoria Island  Lagos  Car Classic   \n",
       "1           TOYOTA  Victoria Island  Lagos  Car Classic   \n",
       "2           TOYOTA  Victoria Island  Lagos  Car Classic   \n",
       "3           TOYOTA  Victoria Island  Lagos      CarSafe   \n",
       "4           TOYOTA            Lagos  Lagos        Muuve   \n",
       "\n",
       "   No_of_claims_3_mon_period  \n",
       "0                          0  \n",
       "1                          1  \n",
       "2                          0  \n",
       "3                          0  \n",
       "4                          1  "
      ]
     },
     "execution_count": 9,
     "metadata": {},
     "output_type": "execute_result"
    }
   ],
   "source": [
    "##renaming  the target column\n",
    "vehicleinsurance = vehicleinsurance.rename(columns={'target': 'No_of_claims_3_mon_period'}, index={'13': '13'})\n",
    "vehicleinsurance.head()"
   ]
  },
  {
   "cell_type": "code",
   "execution_count": 10,
   "metadata": {},
   "outputs": [
    {
     "data": {
      "text/plain": [
       "ID                           object\n",
       "Policy Start Date            object\n",
       "Policy End Date              object\n",
       "Gender                       object\n",
       "Age                           int64\n",
       "First Transaction Date       object\n",
       "No_Pol                        int64\n",
       "Car_Category                 object\n",
       "Subject_Car_Colour           object\n",
       "Subject_Car_Make             object\n",
       "LGA_Name                     object\n",
       "State                        object\n",
       "ProductName                  object\n",
       "No_of_claims_3_mon_period     int64\n",
       "dtype: object"
      ]
     },
     "execution_count": 10,
     "metadata": {},
     "output_type": "execute_result"
    }
   ],
   "source": [
    "##checking datatypes\n",
    "vehicleinsurance.dtypes"
   ]
  },
  {
   "cell_type": "code",
   "execution_count": 11,
   "metadata": {},
   "outputs": [
    {
     "name": "stdout",
     "output_type": "stream",
     "text": [
      "<class 'pandas.core.frame.DataFrame'>\n",
      "Int64Index: 12079 entries, 0 to 12078\n",
      "Data columns (total 14 columns):\n",
      " #   Column                     Non-Null Count  Dtype         \n",
      "---  ------                     --------------  -----         \n",
      " 0   ID                         12079 non-null  object        \n",
      " 1   Policy Start Date          12079 non-null  datetime64[ns]\n",
      " 2   Policy End Date            12079 non-null  datetime64[ns]\n",
      " 3   Gender                     12079 non-null  object        \n",
      " 4   Age                        12079 non-null  int64         \n",
      " 5   First Transaction Date     12079 non-null  datetime64[ns]\n",
      " 6   No_Pol                     12079 non-null  int64         \n",
      " 7   Car_Category               12079 non-null  object        \n",
      " 8   Subject_Car_Colour         12079 non-null  object        \n",
      " 9   Subject_Car_Make           12079 non-null  object        \n",
      " 10  LGA_Name                   12079 non-null  object        \n",
      " 11  State                      12079 non-null  object        \n",
      " 12  ProductName                12079 non-null  object        \n",
      " 13  No_of_claims_3_mon_period  12079 non-null  int64         \n",
      "dtypes: datetime64[ns](3), int64(3), object(8)\n",
      "memory usage: 1.4+ MB\n"
     ]
    }
   ],
   "source": [
    "# convert the 'policy startDate','policy end date','first transaction date' columns to datetime format\n",
    "vehicleinsurance['Policy Start Date']= pd.to_datetime(vehicleinsurance['Policy Start Date'])\n",
    "vehicleinsurance['Policy End Date']= pd.to_datetime(vehicleinsurance['Policy End Date'])\n",
    "vehicleinsurance['First Transaction Date']= pd.to_datetime(vehicleinsurance['First Transaction Date'])\n",
    "# Check the changes\n",
    "vehicleinsurance.info()"
   ]
  },
  {
   "cell_type": "code",
   "execution_count": 12,
   "metadata": {},
   "outputs": [
    {
     "data": {
      "text/plain": [
       "array(['Male', 'Female', 'Entity', 'Joint Gender', 'Others', 'NO GENDER',\n",
       "       'NOT STATED', 'SEX'], dtype=object)"
      ]
     },
     "execution_count": 12,
     "metadata": {},
     "output_type": "execute_result"
    }
   ],
   "source": [
    "#checking the entries in the 'gender' dataset\n",
    "vehicleinsurance['Gender'].unique()"
   ]
  },
  {
   "cell_type": "code",
   "execution_count": 13,
   "metadata": {},
   "outputs": [
    {
     "data": {
      "text/plain": [
       "array(['Male', 'Female', 'Others'], dtype=object)"
      ]
     },
     "execution_count": 13,
     "metadata": {},
     "output_type": "execute_result"
    }
   ],
   "source": [
    "#convert all other gender types apart from male and female to \"others\" \n",
    "vehicleinsurance['Gender'] = np.where(vehicleinsurance['Gender'].str.contains('Entity'), 'Others', vehicleinsurance['Gender'])\n",
    "vehicleinsurance['Gender'] = np.where(vehicleinsurance['Gender'].str.contains('NO'), 'Others', vehicleinsurance['Gender'])\n",
    "vehicleinsurance['Gender'] = np.where(vehicleinsurance['Gender'].str.contains('Joint'), 'Others', vehicleinsurance['Gender'])\n",
    "vehicleinsurance['Gender'] = np.where(vehicleinsurance['Gender'].str.contains('NOT'), 'Others', vehicleinsurance['Gender'])\n",
    "vehicleinsurance['Gender'] = np.where(vehicleinsurance['Gender'].str.contains('no'), 'Others', vehicleinsurance['Gender'])\n",
    "vehicleinsurance['Gender'] = np.where(vehicleinsurance['Gender'].str.contains('SEX'), 'Others', vehicleinsurance['Gender'])\n",
    "#check if changes has been effected\n",
    "vehicleinsurance[\"Gender\"].unique()"
   ]
  },
  {
   "cell_type": "code",
   "execution_count": 14,
   "metadata": {},
   "outputs": [
    {
     "data": {
      "text/html": [
       "<div>\n",
       "<style scoped>\n",
       "    .dataframe tbody tr th:only-of-type {\n",
       "        vertical-align: middle;\n",
       "    }\n",
       "\n",
       "    .dataframe tbody tr th {\n",
       "        vertical-align: top;\n",
       "    }\n",
       "\n",
       "    .dataframe thead th {\n",
       "        text-align: right;\n",
       "    }\n",
       "</style>\n",
       "<table border=\"1\" class=\"dataframe\">\n",
       "  <thead>\n",
       "    <tr style=\"text-align: right;\">\n",
       "      <th></th>\n",
       "      <th>ID</th>\n",
       "      <th>Policy Start Date</th>\n",
       "      <th>Policy End Date</th>\n",
       "      <th>Gender</th>\n",
       "      <th>Age</th>\n",
       "      <th>First Transaction Date</th>\n",
       "      <th>No_Pol</th>\n",
       "      <th>Car_Category</th>\n",
       "      <th>Subject_Car_Colour</th>\n",
       "      <th>Subject_Car_Make</th>\n",
       "      <th>LGA_Name</th>\n",
       "      <th>State</th>\n",
       "      <th>ProductName</th>\n",
       "      <th>No_of_claims_3_mon_period</th>\n",
       "      <th>Policy Duration</th>\n",
       "    </tr>\n",
       "  </thead>\n",
       "  <tbody>\n",
       "    <tr>\n",
       "      <th>0</th>\n",
       "      <td>0040R73</td>\n",
       "      <td>2010-05-14</td>\n",
       "      <td>2011-05-13</td>\n",
       "      <td>Male</td>\n",
       "      <td>30</td>\n",
       "      <td>2010-05-14</td>\n",
       "      <td>1</td>\n",
       "      <td>Saloon</td>\n",
       "      <td>Black</td>\n",
       "      <td>TOYOTA</td>\n",
       "      <td>Victoria Island</td>\n",
       "      <td>Lagos</td>\n",
       "      <td>Car Classic</td>\n",
       "      <td>0</td>\n",
       "      <td>364 days</td>\n",
       "    </tr>\n",
       "    <tr>\n",
       "      <th>1</th>\n",
       "      <td>0046BNK</td>\n",
       "      <td>2010-11-29</td>\n",
       "      <td>2011-11-28</td>\n",
       "      <td>Female</td>\n",
       "      <td>79</td>\n",
       "      <td>2010-11-29</td>\n",
       "      <td>1</td>\n",
       "      <td>JEEP</td>\n",
       "      <td>Grey</td>\n",
       "      <td>TOYOTA</td>\n",
       "      <td>Victoria Island</td>\n",
       "      <td>Lagos</td>\n",
       "      <td>Car Classic</td>\n",
       "      <td>1</td>\n",
       "      <td>364 days</td>\n",
       "    </tr>\n",
       "    <tr>\n",
       "      <th>2</th>\n",
       "      <td>005QMC3</td>\n",
       "      <td>2010-03-21</td>\n",
       "      <td>2011-03-20</td>\n",
       "      <td>Male</td>\n",
       "      <td>43</td>\n",
       "      <td>2010-03-21</td>\n",
       "      <td>1</td>\n",
       "      <td>Saloon</td>\n",
       "      <td>Red</td>\n",
       "      <td>TOYOTA</td>\n",
       "      <td>Victoria Island</td>\n",
       "      <td>Lagos</td>\n",
       "      <td>Car Classic</td>\n",
       "      <td>0</td>\n",
       "      <td>364 days</td>\n",
       "    </tr>\n",
       "    <tr>\n",
       "      <th>3</th>\n",
       "      <td>0079OHW</td>\n",
       "      <td>2010-08-21</td>\n",
       "      <td>2011-08-20</td>\n",
       "      <td>Male</td>\n",
       "      <td>2</td>\n",
       "      <td>2010-08-21</td>\n",
       "      <td>1</td>\n",
       "      <td>Saloon</td>\n",
       "      <td>Black</td>\n",
       "      <td>TOYOTA</td>\n",
       "      <td>Victoria Island</td>\n",
       "      <td>Lagos</td>\n",
       "      <td>CarSafe</td>\n",
       "      <td>0</td>\n",
       "      <td>364 days</td>\n",
       "    </tr>\n",
       "    <tr>\n",
       "      <th>4</th>\n",
       "      <td>00BRP63</td>\n",
       "      <td>2010-08-29</td>\n",
       "      <td>2010-12-31</td>\n",
       "      <td>Others</td>\n",
       "      <td>20</td>\n",
       "      <td>2010-08-29</td>\n",
       "      <td>3</td>\n",
       "      <td>Saloon</td>\n",
       "      <td>Black</td>\n",
       "      <td>TOYOTA</td>\n",
       "      <td>Lagos</td>\n",
       "      <td>Lagos</td>\n",
       "      <td>Muuve</td>\n",
       "      <td>1</td>\n",
       "      <td>124 days</td>\n",
       "    </tr>\n",
       "  </tbody>\n",
       "</table>\n",
       "</div>"
      ],
      "text/plain": [
       "        ID Policy Start Date Policy End Date  Gender  Age  \\\n",
       "0  0040R73        2010-05-14      2011-05-13    Male   30   \n",
       "1  0046BNK        2010-11-29      2011-11-28  Female   79   \n",
       "2  005QMC3        2010-03-21      2011-03-20    Male   43   \n",
       "3  0079OHW        2010-08-21      2011-08-20    Male    2   \n",
       "4  00BRP63        2010-08-29      2010-12-31  Others   20   \n",
       "\n",
       "  First Transaction Date  No_Pol Car_Category Subject_Car_Colour  \\\n",
       "0             2010-05-14       1       Saloon              Black   \n",
       "1             2010-11-29       1         JEEP               Grey   \n",
       "2             2010-03-21       1       Saloon                Red   \n",
       "3             2010-08-21       1       Saloon              Black   \n",
       "4             2010-08-29       3       Saloon              Black   \n",
       "\n",
       "  Subject_Car_Make         LGA_Name  State  ProductName  \\\n",
       "0           TOYOTA  Victoria Island  Lagos  Car Classic   \n",
       "1           TOYOTA  Victoria Island  Lagos  Car Classic   \n",
       "2           TOYOTA  Victoria Island  Lagos  Car Classic   \n",
       "3           TOYOTA  Victoria Island  Lagos      CarSafe   \n",
       "4           TOYOTA            Lagos  Lagos        Muuve   \n",
       "\n",
       "   No_of_claims_3_mon_period Policy Duration  \n",
       "0                          0        364 days  \n",
       "1                          1        364 days  \n",
       "2                          0        364 days  \n",
       "3                          0        364 days  \n",
       "4                          1        124 days  "
      ]
     },
     "execution_count": 14,
     "metadata": {},
     "output_type": "execute_result"
    }
   ],
   "source": [
    "##adding a policy duration column\n",
    "vehicleinsurance['Policy Duration'] = vehicleinsurance['Policy End Date'] - vehicleinsurance['Policy Start Date']\n",
    "vehicleinsurance.head()"
   ]
  },
  {
   "cell_type": "code",
   "execution_count": 15,
   "metadata": {},
   "outputs": [
    {
     "data": {
      "text/plain": [
       "0    1\n",
       "dtype: int64"
      ]
     },
     "execution_count": 15,
     "metadata": {},
     "output_type": "execute_result"
    }
   ],
   "source": [
    "#extracting the month from policy start date and storing in policy start month\n",
    "#to carry out summary\n",
    "vehicleinsurance['policy start month'] = vehicleinsurance['Policy Start Date'].dt.month\n",
    "\n",
    "vehicleinsurance['policy start month'].mode()##this shows that most policies are started in the first\n",
    "#month(january) \n"
   ]
  },
  {
   "cell_type": "code",
   "execution_count": 16,
   "metadata": {},
   "outputs": [
    {
     "data": {
      "text/plain": [
       "array([   30,    79,    43,     2,    20,    37,    40,    71,    58,\n",
       "          45,    51,   120,    38,    81,    69,    31,    70,    34,\n",
       "           1,    41,    47,    36,    46,    48,    39,    63,    42,\n",
       "          27,    64,    50,    53,    33,    23,    32,    59,    60,\n",
       "          52,    54,    44,    11,    78,    28,    29,    57,    12,\n",
       "          65,    35,    73,    56,    55,    26,    49,    18,    14,\n",
       "          62,    25,    61,    72,    82,    67,     7,    10,    68,\n",
       "          21,    76,    24,    66,     3,    93,    22,    77,    19,\n",
       "          80,     9,     6,   -76,    -2,    89,    74,    75,    84,\n",
       "          16,    90,   140,     8,     5,    13,    86,    15,   320,\n",
       "         -12,    83,    85, -6099, -5939,     4,   -22,   144,   112,\n",
       "          17,     0,    88,   -27,    87,   133,   102,   -51,   128,\n",
       "         -26,   100], dtype=int64)"
      ]
     },
     "execution_count": 16,
     "metadata": {},
     "output_type": "execute_result"
    }
   ],
   "source": [
    "###checking the unique features of age\n",
    "vehicleinsurance[\"Age\"].unique()"
   ]
  },
  {
   "cell_type": "markdown",
   "metadata": {},
   "source": [
    "### dealing with outliers\n",
    "here we are removing values greater than 100 and less than 18 as they are not important to our work because in the real sense individuals below the age of 18 and above the age of 100 can't have a vehicle insurance"
   ]
  },
  {
   "cell_type": "code",
   "execution_count": 17,
   "metadata": {},
   "outputs": [
    {
     "data": {
      "text/plain": [
       "count    11139.000000\n",
       "mean        42.934016\n",
       "std         11.759793\n",
       "min         19.000000\n",
       "25%         35.000000\n",
       "50%         41.000000\n",
       "75%         50.000000\n",
       "max         93.000000\n",
       "Name: Age, dtype: float64"
      ]
     },
     "execution_count": 17,
     "metadata": {},
     "output_type": "execute_result"
    }
   ],
   "source": [
    "index=vehicleinsurance[(vehicleinsurance[\"Age\"] >=100)|(vehicleinsurance[\"Age\"]<=18)].index\n",
    "vehicleinsurance.drop(index,inplace=True)\n",
    "vehicleinsurance[\"Age\"].describe()"
   ]
  },
  {
   "cell_type": "markdown",
   "metadata": {},
   "source": [
    "#### Descriptive statistics"
   ]
  },
  {
   "cell_type": "code",
   "execution_count": 18,
   "metadata": {},
   "outputs": [
    {
     "data": {
      "text/html": [
       "<div>\n",
       "<style scoped>\n",
       "    .dataframe tbody tr th:only-of-type {\n",
       "        vertical-align: middle;\n",
       "    }\n",
       "\n",
       "    .dataframe tbody tr th {\n",
       "        vertical-align: top;\n",
       "    }\n",
       "\n",
       "    .dataframe thead th {\n",
       "        text-align: right;\n",
       "    }\n",
       "</style>\n",
       "<table border=\"1\" class=\"dataframe\">\n",
       "  <thead>\n",
       "    <tr style=\"text-align: right;\">\n",
       "      <th></th>\n",
       "      <th>Age</th>\n",
       "      <th>No_Pol</th>\n",
       "      <th>No_of_claims_3_mon_period</th>\n",
       "      <th>Policy Duration</th>\n",
       "      <th>policy start month</th>\n",
       "    </tr>\n",
       "  </thead>\n",
       "  <tbody>\n",
       "    <tr>\n",
       "      <th>count</th>\n",
       "      <td>11139.000000</td>\n",
       "      <td>11139.000000</td>\n",
       "      <td>11139.000000</td>\n",
       "      <td>11139</td>\n",
       "      <td>11139.000000</td>\n",
       "    </tr>\n",
       "    <tr>\n",
       "      <th>mean</th>\n",
       "      <td>42.934016</td>\n",
       "      <td>1.287010</td>\n",
       "      <td>0.118143</td>\n",
       "      <td>350 days 04:44:55.394559656</td>\n",
       "      <td>6.415746</td>\n",
       "    </tr>\n",
       "    <tr>\n",
       "      <th>std</th>\n",
       "      <td>11.759793</td>\n",
       "      <td>0.710048</td>\n",
       "      <td>0.322792</td>\n",
       "      <td>222 days 18:24:30.087066344</td>\n",
       "      <td>3.507318</td>\n",
       "    </tr>\n",
       "    <tr>\n",
       "      <th>min</th>\n",
       "      <td>19.000000</td>\n",
       "      <td>1.000000</td>\n",
       "      <td>0.000000</td>\n",
       "      <td>12 days 00:00:00</td>\n",
       "      <td>1.000000</td>\n",
       "    </tr>\n",
       "    <tr>\n",
       "      <th>25%</th>\n",
       "      <td>35.000000</td>\n",
       "      <td>1.000000</td>\n",
       "      <td>0.000000</td>\n",
       "      <td>364 days 00:00:00</td>\n",
       "      <td>3.000000</td>\n",
       "    </tr>\n",
       "    <tr>\n",
       "      <th>50%</th>\n",
       "      <td>41.000000</td>\n",
       "      <td>1.000000</td>\n",
       "      <td>0.000000</td>\n",
       "      <td>364 days 00:00:00</td>\n",
       "      <td>7.000000</td>\n",
       "    </tr>\n",
       "    <tr>\n",
       "      <th>75%</th>\n",
       "      <td>50.000000</td>\n",
       "      <td>1.000000</td>\n",
       "      <td>0.000000</td>\n",
       "      <td>364 days 00:00:00</td>\n",
       "      <td>10.000000</td>\n",
       "    </tr>\n",
       "    <tr>\n",
       "      <th>max</th>\n",
       "      <td>93.000000</td>\n",
       "      <td>10.000000</td>\n",
       "      <td>1.000000</td>\n",
       "      <td>11139 days 00:00:00</td>\n",
       "      <td>12.000000</td>\n",
       "    </tr>\n",
       "  </tbody>\n",
       "</table>\n",
       "</div>"
      ],
      "text/plain": [
       "                Age        No_Pol  No_of_claims_3_mon_period  \\\n",
       "count  11139.000000  11139.000000               11139.000000   \n",
       "mean      42.934016      1.287010                   0.118143   \n",
       "std       11.759793      0.710048                   0.322792   \n",
       "min       19.000000      1.000000                   0.000000   \n",
       "25%       35.000000      1.000000                   0.000000   \n",
       "50%       41.000000      1.000000                   0.000000   \n",
       "75%       50.000000      1.000000                   0.000000   \n",
       "max       93.000000     10.000000                   1.000000   \n",
       "\n",
       "                   Policy Duration  policy start month  \n",
       "count                        11139        11139.000000  \n",
       "mean   350 days 04:44:55.394559656            6.415746  \n",
       "std    222 days 18:24:30.087066344            3.507318  \n",
       "min               12 days 00:00:00            1.000000  \n",
       "25%              364 days 00:00:00            3.000000  \n",
       "50%              364 days 00:00:00            7.000000  \n",
       "75%              364 days 00:00:00           10.000000  \n",
       "max            11139 days 00:00:00           12.000000  "
      ]
     },
     "execution_count": 18,
     "metadata": {},
     "output_type": "execute_result"
    }
   ],
   "source": [
    "vehicleinsurance.describe()"
   ]
  },
  {
   "cell_type": "code",
   "execution_count": 20,
   "metadata": {},
   "outputs": [],
   "source": [
    "###saving the cleaned dataset\n",
    "vehicleinsurance.to_csv('vehicleinsurance_cleaned.csv', index = False)"
   ]
  },
  {
   "cell_type": "markdown",
   "metadata": {},
   "source": [
    "#### Visualizations"
   ]
  },
  {
   "cell_type": "code",
   "execution_count": 21,
   "metadata": {},
   "outputs": [],
   "source": [
    "import matplotlib.pyplot as plt"
   ]
  },
  {
   "cell_type": "code",
   "execution_count": 22,
   "metadata": {},
   "outputs": [
    {
     "data": {
      "text/plain": [
       "<AxesSubplot:xlabel='Gender', ylabel='count'>"
      ]
     },
     "execution_count": 22,
     "metadata": {},
     "output_type": "execute_result"
    },
    {
     "data": {
      "image/png": "[encoded data removed]",
      "text/plain": [
       "<Figure size 432x288 with 1 Axes>"
      ]
     },
     "metadata": {
      "needs_background": "light"
     },
     "output_type": "display_data"
    }
   ],
   "source": [
    "sns.countplot(x=\"Gender\",data=vehicleinsurance)"
   ]
  },
  {
   "cell_type": "code",
   "execution_count": 23,
   "metadata": {},
   "outputs": [
    {
     "data": {
      "text/plain": [
       "<AxesSubplot:xlabel='No_of_claims_3_mon_period', ylabel='count'>"
      ]
     },
     "execution_count": 23,
     "metadata": {},
     "output_type": "execute_result"
    },
    {
     "data": {
      "image/png": "[encoded data removed]",
      "text/plain": [
       "<Figure size 432x288 with 1 Axes>"
      ]
     },
     "metadata": {
      "needs_background": "light"
     },
     "output_type": "display_data"
    }
   ],
   "source": [
    "sns.countplot(x=\"No_of_claims_3_mon_period\",data=vehicleinsurance)"
   ]
  },
  {
   "cell_type": "code",
   "execution_count": 24,
   "metadata": {},
   "outputs": [
    {
     "data": {
      "text/plain": [
       "Text(0, 0.5, 'No_Pol')"
      ]
     },
     "execution_count": 24,
     "metadata": {},
     "output_type": "execute_result"
    },
    {
     "data": {
      "image/png": "[encoded data removed]",
      "text/plain": [
       "<Figure size 864x576 with 1 Axes>"
      ]
     },
     "metadata": {
      "needs_background": "light"
     },
     "output_type": "display_data"
    }
   ],
   "source": [
    "#bar plot\n",
    "plt.figure(figsize =(12,8))\n",
    "\n",
    "plt.bar(vehicleinsurance['Gender'], vehicleinsurance['No_Pol'])\n",
    "\n",
    "plt.xlabel('Gender')\n",
    "plt.ylabel('No_Pol')"
   ]
  },
  {
   "cell_type": "code",
   "execution_count": 25,
   "metadata": {},
   "outputs": [
    {
     "data": {
      "text/plain": [
       "<AxesSubplot:xlabel='Age'>"
      ]
     },
     "execution_count": 25,
     "metadata": {},
     "output_type": "execute_result"
    },
    {
     "data": {
      "image/png": "[encoded data removed]",
      "text/plain": [
       "<Figure size 432x288 with 1 Axes>"
      ]
     },
     "metadata": {
      "needs_background": "light"
     },
     "output_type": "display_data"
    }
   ],
   "source": [
    "sns.boxplot(data=vehicleinsurance,x=\"Age\")"
   ]
  },
  {
   "cell_type": "code",
   "execution_count": 26,
   "metadata": {},
   "outputs": [
    {
     "data": {
      "image/png": "[encoded data removed]",
      "text/plain": [
       "<Figure size 1080x576 with 4 Axes>"
      ]
     },
     "metadata": {
      "needs_background": "light"
     },
     "output_type": "display_data"
    }
   ],
   "source": [
    "##histogram\n",
    "vehicleinsurance.hist(figsize = (15,8))\n",
    "plt.show()"
   ]
  },
  {
   "cell_type": "code",
   "execution_count": 27,
   "metadata": {},
   "outputs": [
    {
     "data": {
      "image/png": "[encoded data removed]",
      "text/plain": [
       "<Figure size 1080x576 with 1 Axes>"
      ]
     },
     "metadata": {
      "needs_background": "light"
     },
     "output_type": "display_data"
    }
   ],
   "source": [
    "vehicleinsurance.boxplot(figsize = (15,8))\n",
    "plt.show()"
   ]
  },
  {
   "cell_type": "code",
   "execution_count": 43,
   "metadata": {},
   "outputs": [
    {
     "data": {
      "text/html": [
       "<div>\n",
       "<style scoped>\n",
       "    .dataframe tbody tr th:only-of-type {\n",
       "        vertical-align: middle;\n",
       "    }\n",
       "\n",
       "    .dataframe tbody tr th {\n",
       "        vertical-align: top;\n",
       "    }\n",
       "\n",
       "    .dataframe thead th {\n",
       "        text-align: right;\n",
       "    }\n",
       "</style>\n",
       "<table border=\"1\" class=\"dataframe\">\n",
       "  <thead>\n",
       "    <tr style=\"text-align: right;\">\n",
       "      <th></th>\n",
       "      <th>ID</th>\n",
       "      <th>Policy Start Date</th>\n",
       "      <th>Policy End Date</th>\n",
       "      <th>Gender</th>\n",
       "      <th>Age</th>\n",
       "      <th>First Transaction Date</th>\n",
       "      <th>No_Pol</th>\n",
       "      <th>Car_Category</th>\n",
       "      <th>Subject_Car_Colour</th>\n",
       "      <th>Subject_Car_Make</th>\n",
       "      <th>LGA_Name</th>\n",
       "      <th>State</th>\n",
       "      <th>ProductName</th>\n",
       "      <th>No_of_claims_3_mon_period</th>\n",
       "      <th>Policy Duration</th>\n",
       "      <th>policy start month</th>\n",
       "    </tr>\n",
       "  </thead>\n",
       "  <tbody>\n",
       "    <tr>\n",
       "      <th>0</th>\n",
       "      <td>0040R73</td>\n",
       "      <td>2010-05-14</td>\n",
       "      <td>2011-05-13</td>\n",
       "      <td>1</td>\n",
       "      <td>30</td>\n",
       "      <td>2010-05-14</td>\n",
       "      <td>1</td>\n",
       "      <td>Saloon</td>\n",
       "      <td>Black</td>\n",
       "      <td>TOYOTA</td>\n",
       "      <td>Victoria Island</td>\n",
       "      <td>Lagos</td>\n",
       "      <td>Car Classic</td>\n",
       "      <td>0</td>\n",
       "      <td>364 days</td>\n",
       "      <td>5</td>\n",
       "    </tr>\n",
       "    <tr>\n",
       "      <th>1</th>\n",
       "      <td>0046BNK</td>\n",
       "      <td>2010-11-29</td>\n",
       "      <td>2011-11-28</td>\n",
       "      <td>0</td>\n",
       "      <td>79</td>\n",
       "      <td>2010-11-29</td>\n",
       "      <td>0</td>\n",
       "      <td>JEEP</td>\n",
       "      <td>Grey</td>\n",
       "      <td>TOYOTA</td>\n",
       "      <td>Victoria Island</td>\n",
       "      <td>Lagos</td>\n",
       "      <td>Car Classic</td>\n",
       "      <td>1</td>\n",
       "      <td>364 days</td>\n",
       "      <td>11</td>\n",
       "    </tr>\n",
       "    <tr>\n",
       "      <th>2</th>\n",
       "      <td>005QMC3</td>\n",
       "      <td>2010-03-21</td>\n",
       "      <td>2011-03-20</td>\n",
       "      <td>1</td>\n",
       "      <td>43</td>\n",
       "      <td>2010-03-21</td>\n",
       "      <td>1</td>\n",
       "      <td>Saloon</td>\n",
       "      <td>Red</td>\n",
       "      <td>TOYOTA</td>\n",
       "      <td>Victoria Island</td>\n",
       "      <td>Lagos</td>\n",
       "      <td>Car Classic</td>\n",
       "      <td>0</td>\n",
       "      <td>364 days</td>\n",
       "      <td>3</td>\n",
       "    </tr>\n",
       "    <tr>\n",
       "      <th>4</th>\n",
       "      <td>00BRP63</td>\n",
       "      <td>2010-08-29</td>\n",
       "      <td>2010-12-31</td>\n",
       "      <td>2</td>\n",
       "      <td>20</td>\n",
       "      <td>2010-08-29</td>\n",
       "      <td>2</td>\n",
       "      <td>Saloon</td>\n",
       "      <td>Black</td>\n",
       "      <td>TOYOTA</td>\n",
       "      <td>Lagos</td>\n",
       "      <td>Lagos</td>\n",
       "      <td>Muuve</td>\n",
       "      <td>1</td>\n",
       "      <td>124 days</td>\n",
       "      <td>8</td>\n",
       "    </tr>\n",
       "    <tr>\n",
       "      <th>5</th>\n",
       "      <td>00D3EF6</td>\n",
       "      <td>2010-10-21</td>\n",
       "      <td>2011-10-20</td>\n",
       "      <td>1</td>\n",
       "      <td>37</td>\n",
       "      <td>2010-10-21</td>\n",
       "      <td>1</td>\n",
       "      <td>Saloon</td>\n",
       "      <td>Black</td>\n",
       "      <td>TOYOTA</td>\n",
       "      <td>Victoria Island</td>\n",
       "      <td>Lagos</td>\n",
       "      <td>Car Classic</td>\n",
       "      <td>0</td>\n",
       "      <td>364 days</td>\n",
       "      <td>10</td>\n",
       "    </tr>\n",
       "  </tbody>\n",
       "</table>\n",
       "</div>"
      ],
      "text/plain": [
       "        ID Policy Start Date Policy End Date Gender  Age  \\\n",
       "0  0040R73        2010-05-14      2011-05-13      1   30   \n",
       "1  0046BNK        2010-11-29      2011-11-28      0   79   \n",
       "2  005QMC3        2010-03-21      2011-03-20      1   43   \n",
       "4  00BRP63        2010-08-29      2010-12-31      2   20   \n",
       "5  00D3EF6        2010-10-21      2011-10-20      1   37   \n",
       "\n",
       "  First Transaction Date No_Pol Car_Category Subject_Car_Colour  \\\n",
       "0             2010-05-14      1       Saloon              Black   \n",
       "1             2010-11-29      0         JEEP               Grey   \n",
       "2             2010-03-21      1       Saloon                Red   \n",
       "4             2010-08-29      2       Saloon              Black   \n",
       "5             2010-10-21      1       Saloon              Black   \n",
       "\n",
       "  Subject_Car_Make         LGA_Name  State  ProductName  \\\n",
       "0           TOYOTA  Victoria Island  Lagos  Car Classic   \n",
       "1           TOYOTA  Victoria Island  Lagos  Car Classic   \n",
       "2           TOYOTA  Victoria Island  Lagos  Car Classic   \n",
       "4           TOYOTA            Lagos  Lagos        Muuve   \n",
       "5           TOYOTA  Victoria Island  Lagos  Car Classic   \n",
       "\n",
       "  No_of_claims_3_mon_period Policy Duration  policy start month  \n",
       "0                         0        364 days                   5  \n",
       "1                         1        364 days                  11  \n",
       "2                         0        364 days                   3  \n",
       "4                         1        124 days                   8  \n",
       "5                         0        364 days                  10  "
      ]
     },
     "execution_count": 43,
     "metadata": {},
     "output_type": "execute_result"
    }
   ],
   "source": [
    "##converting columns to \"category\" \n",
    "vehicleinsurance[\"Gender\"]=vehicleinsurance[\"Gender\"].astype(\"category\")\n",
    "vehicleinsurance[\"No_Pol\"]=vehicleinsurance[\"Gender\"].astype(\"category\")\n",
    "vehicleinsurance[\"Car_Category\"]=vehicleinsurance[\"Car_Category\"].astype(\"category\")\n",
    "vehicleinsurance[\"Subject_Car_Colour\"]=vehicleinsurance[\"Subject_Car_Colour\"].astype(\"category\")\n",
    "vehicleinsurance[\"Subject_Car_Make\"]=vehicleinsurance[\"Subject_Car_Make\"].astype(\"category\")            \n",
    "vehicleinsurance[\"LGA_Name\"]=vehicleinsurance[\"LGA_Name\"].astype(\"category\")  \n",
    "vehicleinsurance[\"State\"]=vehicleinsurance[\"State\"].astype(\"category\") \n",
    "vehicleinsurance[\"ProductName\"]=vehicleinsurance[\"ProductName\"].astype(\"category\") \n",
    "vehicleinsurance[\"No_of_claims_3_mon_period\"]=vehicleinsurance[\"No_of_claims_3_mon_period\"].astype(\"category\") \n"
   ]
  },
  {
   "cell_type": "code",
   "execution_count": 56,
   "metadata": {},
   "outputs": [
    {
     "name": "stdout",
     "output_type": "stream",
     "text": [
      "<class 'pandas.core.frame.DataFrame'>\n",
      "Int64Index: 11139 entries, 0 to 12078\n",
      "Data columns (total 24 columns):\n",
      " #   Column                     Non-Null Count  Dtype          \n",
      "---  ------                     --------------  -----          \n",
      " 0   ID                         11139 non-null  object         \n",
      " 1   Policy Start Date          11139 non-null  datetime64[ns] \n",
      " 2   Policy End Date            11139 non-null  datetime64[ns] \n",
      " 3   Gender                     11139 non-null  category       \n",
      " 4   Age                        11139 non-null  int64          \n",
      " 5   First Transaction Date     11139 non-null  datetime64[ns] \n",
      " 6   No_Pol                     11139 non-null  category       \n",
      " 7   Car_Category               11139 non-null  category       \n",
      " 8   Subject_Car_Colour         11139 non-null  category       \n",
      " 9   Subject_Car_Make           11139 non-null  category       \n",
      " 10  LGA_Name                   11139 non-null  category       \n",
      " 11  State                      11139 non-null  category       \n",
      " 12  ProductName                11139 non-null  category       \n",
      " 13  No_of_claims_3_mon_period  11139 non-null  category       \n",
      " 14  Policy Duration            11139 non-null  timedelta64[ns]\n",
      " 15  policy start month         11139 non-null  int64          \n",
      " 16  Gender_cat                 11139 non-null  int8           \n",
      " 17  No_Pol_cat                 11139 non-null  int8           \n",
      " 18  Car_Category_cat           11139 non-null  int8           \n",
      " 19  Subject_Car_Colour_cat     11139 non-null  int8           \n",
      " 20  Subject_Car_Make_cat       11139 non-null  int8           \n",
      " 21  LGA_Name_cat               11139 non-null  int16          \n",
      " 22  State_cat                  11139 non-null  int8           \n",
      " 23  ProductName_cat            11139 non-null  int8           \n",
      "dtypes: category(9), datetime64[ns](3), int16(1), int64(2), int8(7), object(1), timedelta64[ns](1)\n",
      "memory usage: 1.2+ MB\n"
     ]
    }
   ],
   "source": [
    "##to check if conversion has taken place\n",
    "vehicleinsurance.info()"
   ]
  },
  {
   "cell_type": "markdown",
   "metadata": {},
   "source": [
    "### Label encoding\n",
    "using Label encoding to encode certain columns to numerical values because most algorithms work\n",
    "better with numerical inputs.this approach requires the category column to be \"category\" datatype hence the codes above where we changed columns to category types.note we won't be encoding the target variable(\"No_of_claims_3_mon_period\")"
   ]
  },
  {
   "cell_type": "code",
   "execution_count": 44,
   "metadata": {},
   "outputs": [],
   "source": [
    "#assign numerical values and storing them in other columns\n",
    "vehicleinsurance[\"Gender_cat\"]=vehicleinsurance[\"Gender\"].cat.codes\n",
    "vehicleinsurance[\"No_Pol_cat\"]=vehicleinsurance[\"No_Pol\"].cat.codes\n",
    "vehicleinsurance[\"Car_Category_cat\"]=vehicleinsurance[\"Car_Category\"].cat.codes\n",
    "vehicleinsurance[\"Subject_Car_Colour_cat\"]=vehicleinsurance[\"Subject_Car_Colour\"].cat.codes\n",
    "vehicleinsurance[\"Subject_Car_Make_cat\"]=vehicleinsurance[\"Subject_Car_Make\"].cat.codes           \n",
    "vehicleinsurance[\"LGA_Name_cat\"]=vehicleinsurance[\"LGA_Name\"].cat.codes  \n",
    "vehicleinsurance[\"State_cat\"]=vehicleinsurance[\"State\"].cat.codes \n",
    "vehicleinsurance[\"ProductName_cat\"]=vehicleinsurance[\"ProductName\"].cat.codes\n",
    "\n"
   ]
  },
  {
   "cell_type": "code",
   "execution_count": 47,
   "metadata": {},
   "outputs": [
    {
     "data": {
      "text/html": [
       "<div>\n",
       "<style scoped>\n",
       "    .dataframe tbody tr th:only-of-type {\n",
       "        vertical-align: middle;\n",
       "    }\n",
       "\n",
       "    .dataframe tbody tr th {\n",
       "        vertical-align: top;\n",
       "    }\n",
       "\n",
       "    .dataframe thead th {\n",
       "        text-align: right;\n",
       "    }\n",
       "</style>\n",
       "<table border=\"1\" class=\"dataframe\">\n",
       "  <thead>\n",
       "    <tr style=\"text-align: right;\">\n",
       "      <th></th>\n",
       "      <th>ID</th>\n",
       "      <th>Policy Start Date</th>\n",
       "      <th>Policy End Date</th>\n",
       "      <th>Gender</th>\n",
       "      <th>Age</th>\n",
       "      <th>First Transaction Date</th>\n",
       "      <th>No_Pol</th>\n",
       "      <th>Car_Category</th>\n",
       "      <th>Subject_Car_Colour</th>\n",
       "      <th>Subject_Car_Make</th>\n",
       "      <th>...</th>\n",
       "      <th>Policy Duration</th>\n",
       "      <th>policy start month</th>\n",
       "      <th>Gender_cat</th>\n",
       "      <th>No_Pol_cat</th>\n",
       "      <th>Car_Category_cat</th>\n",
       "      <th>Subject_Car_Colour_cat</th>\n",
       "      <th>Subject_Car_Make_cat</th>\n",
       "      <th>LGA_Name_cat</th>\n",
       "      <th>State_cat</th>\n",
       "      <th>ProductName_cat</th>\n",
       "    </tr>\n",
       "  </thead>\n",
       "  <tbody>\n",
       "    <tr>\n",
       "      <th>0</th>\n",
       "      <td>0040R73</td>\n",
       "      <td>2010-05-14</td>\n",
       "      <td>2011-05-13</td>\n",
       "      <td>1</td>\n",
       "      <td>30</td>\n",
       "      <td>2010-05-14</td>\n",
       "      <td>1</td>\n",
       "      <td>Saloon</td>\n",
       "      <td>Black</td>\n",
       "      <td>TOYOTA</td>\n",
       "      <td>...</td>\n",
       "      <td>364 days</td>\n",
       "      <td>5</td>\n",
       "      <td>1</td>\n",
       "      <td>1</td>\n",
       "      <td>8</td>\n",
       "      <td>4</td>\n",
       "      <td>61</td>\n",
       "      <td>245</td>\n",
       "      <td>73</td>\n",
       "      <td>1</td>\n",
       "    </tr>\n",
       "    <tr>\n",
       "      <th>1</th>\n",
       "      <td>0046BNK</td>\n",
       "      <td>2010-11-29</td>\n",
       "      <td>2011-11-28</td>\n",
       "      <td>0</td>\n",
       "      <td>79</td>\n",
       "      <td>2010-11-29</td>\n",
       "      <td>0</td>\n",
       "      <td>JEEP</td>\n",
       "      <td>Grey</td>\n",
       "      <td>TOYOTA</td>\n",
       "      <td>...</td>\n",
       "      <td>364 days</td>\n",
       "      <td>11</td>\n",
       "      <td>0</td>\n",
       "      <td>0</td>\n",
       "      <td>2</td>\n",
       "      <td>25</td>\n",
       "      <td>61</td>\n",
       "      <td>245</td>\n",
       "      <td>73</td>\n",
       "      <td>1</td>\n",
       "    </tr>\n",
       "    <tr>\n",
       "      <th>2</th>\n",
       "      <td>005QMC3</td>\n",
       "      <td>2010-03-21</td>\n",
       "      <td>2011-03-20</td>\n",
       "      <td>1</td>\n",
       "      <td>43</td>\n",
       "      <td>2010-03-21</td>\n",
       "      <td>1</td>\n",
       "      <td>Saloon</td>\n",
       "      <td>Red</td>\n",
       "      <td>TOYOTA</td>\n",
       "      <td>...</td>\n",
       "      <td>364 days</td>\n",
       "      <td>3</td>\n",
       "      <td>1</td>\n",
       "      <td>1</td>\n",
       "      <td>8</td>\n",
       "      <td>31</td>\n",
       "      <td>61</td>\n",
       "      <td>245</td>\n",
       "      <td>73</td>\n",
       "      <td>1</td>\n",
       "    </tr>\n",
       "    <tr>\n",
       "      <th>4</th>\n",
       "      <td>00BRP63</td>\n",
       "      <td>2010-08-29</td>\n",
       "      <td>2010-12-31</td>\n",
       "      <td>2</td>\n",
       "      <td>20</td>\n",
       "      <td>2010-08-29</td>\n",
       "      <td>2</td>\n",
       "      <td>Saloon</td>\n",
       "      <td>Black</td>\n",
       "      <td>TOYOTA</td>\n",
       "      <td>...</td>\n",
       "      <td>124 days</td>\n",
       "      <td>8</td>\n",
       "      <td>2</td>\n",
       "      <td>2</td>\n",
       "      <td>8</td>\n",
       "      <td>4</td>\n",
       "      <td>61</td>\n",
       "      <td>155</td>\n",
       "      <td>73</td>\n",
       "      <td>8</td>\n",
       "    </tr>\n",
       "    <tr>\n",
       "      <th>5</th>\n",
       "      <td>00D3EF6</td>\n",
       "      <td>2010-10-21</td>\n",
       "      <td>2011-10-20</td>\n",
       "      <td>1</td>\n",
       "      <td>37</td>\n",
       "      <td>2010-10-21</td>\n",
       "      <td>1</td>\n",
       "      <td>Saloon</td>\n",
       "      <td>Black</td>\n",
       "      <td>TOYOTA</td>\n",
       "      <td>...</td>\n",
       "      <td>364 days</td>\n",
       "      <td>10</td>\n",
       "      <td>1</td>\n",
       "      <td>1</td>\n",
       "      <td>8</td>\n",
       "      <td>4</td>\n",
       "      <td>61</td>\n",
       "      <td>245</td>\n",
       "      <td>73</td>\n",
       "      <td>1</td>\n",
       "    </tr>\n",
       "  </tbody>\n",
       "</table>\n",
       "<p>5 rows × 24 columns</p>\n",
       "</div>"
      ],
      "text/plain": [
       "        ID Policy Start Date Policy End Date Gender  Age  \\\n",
       "0  0040R73        2010-05-14      2011-05-13      1   30   \n",
       "1  0046BNK        2010-11-29      2011-11-28      0   79   \n",
       "2  005QMC3        2010-03-21      2011-03-20      1   43   \n",
       "4  00BRP63        2010-08-29      2010-12-31      2   20   \n",
       "5  00D3EF6        2010-10-21      2011-10-20      1   37   \n",
       "\n",
       "  First Transaction Date No_Pol Car_Category Subject_Car_Colour  \\\n",
       "0             2010-05-14      1       Saloon              Black   \n",
       "1             2010-11-29      0         JEEP               Grey   \n",
       "2             2010-03-21      1       Saloon                Red   \n",
       "4             2010-08-29      2       Saloon              Black   \n",
       "5             2010-10-21      1       Saloon              Black   \n",
       "\n",
       "  Subject_Car_Make  ... Policy Duration policy start month Gender_cat  \\\n",
       "0           TOYOTA  ...        364 days                  5          1   \n",
       "1           TOYOTA  ...        364 days                 11          0   \n",
       "2           TOYOTA  ...        364 days                  3          1   \n",
       "4           TOYOTA  ...        124 days                  8          2   \n",
       "5           TOYOTA  ...        364 days                 10          1   \n",
       "\n",
       "  No_Pol_cat Car_Category_cat  Subject_Car_Colour_cat  Subject_Car_Make_cat  \\\n",
       "0          1                8                       4                    61   \n",
       "1          0                2                      25                    61   \n",
       "2          1                8                      31                    61   \n",
       "4          2                8                       4                    61   \n",
       "5          1                8                       4                    61   \n",
       "\n",
       "   LGA_Name_cat  State_cat  ProductName_cat  \n",
       "0           245         73                1  \n",
       "1           245         73                1  \n",
       "2           245         73                1  \n",
       "4           155         73                8  \n",
       "5           245         73                1  \n",
       "\n",
       "[5 rows x 24 columns]"
      ]
     },
     "execution_count": 47,
     "metadata": {},
     "output_type": "execute_result"
    }
   ],
   "source": [
    "vehicleinsurance.head()#to view the changes"
   ]
  },
  {
   "cell_type": "code",
   "execution_count": 55,
   "metadata": {},
   "outputs": [
    {
     "data": {
      "text/html": [
       "<div>\n",
       "<style scoped>\n",
       "    .dataframe tbody tr th:only-of-type {\n",
       "        vertical-align: middle;\n",
       "    }\n",
       "\n",
       "    .dataframe tbody tr th {\n",
       "        vertical-align: top;\n",
       "    }\n",
       "\n",
       "    .dataframe thead th {\n",
       "        text-align: right;\n",
       "    }\n",
       "</style>\n",
       "<table border=\"1\" class=\"dataframe\">\n",
       "  <thead>\n",
       "    <tr style=\"text-align: right;\">\n",
       "      <th></th>\n",
       "      <th>Age</th>\n",
       "      <th>Gender_cat</th>\n",
       "      <th>No_Pol_cat</th>\n",
       "      <th>Car_Category_cat</th>\n",
       "      <th>Subject_Car_Colour_cat</th>\n",
       "      <th>Subject_Car_Make_cat</th>\n",
       "      <th>LGA_Name_cat</th>\n",
       "      <th>State_cat</th>\n",
       "      <th>ProductName_cat</th>\n",
       "      <th>No_of_claims_3_mon_period</th>\n",
       "    </tr>\n",
       "  </thead>\n",
       "  <tbody>\n",
       "    <tr>\n",
       "      <th>0</th>\n",
       "      <td>30</td>\n",
       "      <td>1</td>\n",
       "      <td>1</td>\n",
       "      <td>8</td>\n",
       "      <td>4</td>\n",
       "      <td>61</td>\n",
       "      <td>245</td>\n",
       "      <td>73</td>\n",
       "      <td>1</td>\n",
       "      <td>0</td>\n",
       "    </tr>\n",
       "    <tr>\n",
       "      <th>1</th>\n",
       "      <td>79</td>\n",
       "      <td>0</td>\n",
       "      <td>0</td>\n",
       "      <td>2</td>\n",
       "      <td>25</td>\n",
       "      <td>61</td>\n",
       "      <td>245</td>\n",
       "      <td>73</td>\n",
       "      <td>1</td>\n",
       "      <td>1</td>\n",
       "    </tr>\n",
       "    <tr>\n",
       "      <th>2</th>\n",
       "      <td>43</td>\n",
       "      <td>1</td>\n",
       "      <td>1</td>\n",
       "      <td>8</td>\n",
       "      <td>31</td>\n",
       "      <td>61</td>\n",
       "      <td>245</td>\n",
       "      <td>73</td>\n",
       "      <td>1</td>\n",
       "      <td>0</td>\n",
       "    </tr>\n",
       "    <tr>\n",
       "      <th>4</th>\n",
       "      <td>20</td>\n",
       "      <td>2</td>\n",
       "      <td>2</td>\n",
       "      <td>8</td>\n",
       "      <td>4</td>\n",
       "      <td>61</td>\n",
       "      <td>155</td>\n",
       "      <td>73</td>\n",
       "      <td>8</td>\n",
       "      <td>1</td>\n",
       "    </tr>\n",
       "    <tr>\n",
       "      <th>5</th>\n",
       "      <td>37</td>\n",
       "      <td>1</td>\n",
       "      <td>1</td>\n",
       "      <td>8</td>\n",
       "      <td>4</td>\n",
       "      <td>61</td>\n",
       "      <td>245</td>\n",
       "      <td>73</td>\n",
       "      <td>1</td>\n",
       "      <td>0</td>\n",
       "    </tr>\n",
       "  </tbody>\n",
       "</table>\n",
       "</div>"
      ],
      "text/plain": [
       "   Age  Gender_cat  No_Pol_cat  Car_Category_cat  Subject_Car_Colour_cat  \\\n",
       "0   30           1           1                 8                       4   \n",
       "1   79           0           0                 2                      25   \n",
       "2   43           1           1                 8                      31   \n",
       "4   20           2           2                 8                       4   \n",
       "5   37           1           1                 8                       4   \n",
       "\n",
       "   Subject_Car_Make_cat  LGA_Name_cat  State_cat  ProductName_cat  \\\n",
       "0                    61           245         73                1   \n",
       "1                    61           245         73                1   \n",
       "2                    61           245         73                1   \n",
       "4                    61           155         73                8   \n",
       "5                    61           245         73                1   \n",
       "\n",
       "  No_of_claims_3_mon_period  \n",
       "0                         0  \n",
       "1                         1  \n",
       "2                         0  \n",
       "4                         1  \n",
       "5                         0  "
      ]
     },
     "execution_count": 55,
     "metadata": {},
     "output_type": "execute_result"
    }
   ],
   "source": [
    "##creating a new dataframe of all the columns i need for my machine learning\n",
    "vehicle=vehicleinsurance[[\"Age\",\"Gender_cat\",\"No_Pol_cat\",\"Car_Category_cat\",\"Subject_Car_Colour_cat\",\"Subject_Car_Make_cat\",\"LGA_Name_cat\",\"State_cat\",\"ProductName_cat\"\n",
    "                         ,\"No_of_claims_3_mon_period\"]]\n",
    "vehicle.head()"
   ]
  },
  {
   "cell_type": "code",
   "execution_count": 53,
   "metadata": {},
   "outputs": [
    {
     "data": {
      "text/html": [
       "<div>\n",
       "<style scoped>\n",
       "    .dataframe tbody tr th:only-of-type {\n",
       "        vertical-align: middle;\n",
       "    }\n",
       "\n",
       "    .dataframe tbody tr th {\n",
       "        vertical-align: top;\n",
       "    }\n",
       "\n",
       "    .dataframe thead th {\n",
       "        text-align: right;\n",
       "    }\n",
       "</style>\n",
       "<table border=\"1\" class=\"dataframe\">\n",
       "  <thead>\n",
       "    <tr style=\"text-align: right;\">\n",
       "      <th></th>\n",
       "      <th>Age</th>\n",
       "      <th>Gender_cat</th>\n",
       "      <th>No_Pol_cat</th>\n",
       "      <th>Car_Category_cat</th>\n",
       "      <th>Subject_Car_Colour_cat</th>\n",
       "      <th>Subject_Car_Make_cat</th>\n",
       "      <th>LGA_Name_cat</th>\n",
       "      <th>State_cat</th>\n",
       "      <th>ProductName_cat</th>\n",
       "    </tr>\n",
       "  </thead>\n",
       "  <tbody>\n",
       "    <tr>\n",
       "      <th>count</th>\n",
       "      <td>11139.000000</td>\n",
       "      <td>11139.000000</td>\n",
       "      <td>11139.000000</td>\n",
       "      <td>11139.000000</td>\n",
       "      <td>11139.000000</td>\n",
       "      <td>11139.000000</td>\n",
       "      <td>11139.000000</td>\n",
       "      <td>11139.000000</td>\n",
       "      <td>11139.000000</td>\n",
       "    </tr>\n",
       "    <tr>\n",
       "      <th>mean</th>\n",
       "      <td>42.934016</td>\n",
       "      <td>0.784810</td>\n",
       "      <td>0.784810</td>\n",
       "      <td>6.965796</td>\n",
       "      <td>8.754825</td>\n",
       "      <td>49.869198</td>\n",
       "      <td>201.726457</td>\n",
       "      <td>66.774306</td>\n",
       "      <td>2.548344</td>\n",
       "    </tr>\n",
       "    <tr>\n",
       "      <th>std</th>\n",
       "      <td>11.759793</td>\n",
       "      <td>0.553737</td>\n",
       "      <td>0.553737</td>\n",
       "      <td>2.375278</td>\n",
       "      <td>10.629240</td>\n",
       "      <td>16.444715</td>\n",
       "      <td>69.703088</td>\n",
       "      <td>18.313197</td>\n",
       "      <td>2.014731</td>\n",
       "    </tr>\n",
       "    <tr>\n",
       "      <th>min</th>\n",
       "      <td>19.000000</td>\n",
       "      <td>0.000000</td>\n",
       "      <td>0.000000</td>\n",
       "      <td>0.000000</td>\n",
       "      <td>0.000000</td>\n",
       "      <td>0.000000</td>\n",
       "      <td>0.000000</td>\n",
       "      <td>0.000000</td>\n",
       "      <td>0.000000</td>\n",
       "    </tr>\n",
       "    <tr>\n",
       "      <th>25%</th>\n",
       "      <td>35.000000</td>\n",
       "      <td>0.000000</td>\n",
       "      <td>0.000000</td>\n",
       "      <td>8.000000</td>\n",
       "      <td>4.000000</td>\n",
       "      <td>36.000000</td>\n",
       "      <td>157.000000</td>\n",
       "      <td>73.000000</td>\n",
       "      <td>1.000000</td>\n",
       "    </tr>\n",
       "    <tr>\n",
       "      <th>50%</th>\n",
       "      <td>41.000000</td>\n",
       "      <td>1.000000</td>\n",
       "      <td>1.000000</td>\n",
       "      <td>8.000000</td>\n",
       "      <td>4.000000</td>\n",
       "      <td>61.000000</td>\n",
       "      <td>245.000000</td>\n",
       "      <td>73.000000</td>\n",
       "      <td>1.000000</td>\n",
       "    </tr>\n",
       "    <tr>\n",
       "      <th>75%</th>\n",
       "      <td>50.000000</td>\n",
       "      <td>1.000000</td>\n",
       "      <td>1.000000</td>\n",
       "      <td>8.000000</td>\n",
       "      <td>4.000000</td>\n",
       "      <td>61.000000</td>\n",
       "      <td>245.000000</td>\n",
       "      <td>73.000000</td>\n",
       "      <td>5.000000</td>\n",
       "    </tr>\n",
       "    <tr>\n",
       "      <th>max</th>\n",
       "      <td>93.000000</td>\n",
       "      <td>2.000000</td>\n",
       "      <td>2.000000</td>\n",
       "      <td>15.000000</td>\n",
       "      <td>43.000000</td>\n",
       "      <td>66.000000</td>\n",
       "      <td>255.000000</td>\n",
       "      <td>110.000000</td>\n",
       "      <td>8.000000</td>\n",
       "    </tr>\n",
       "  </tbody>\n",
       "</table>\n",
       "</div>"
      ],
      "text/plain": [
       "                Age    Gender_cat    No_Pol_cat  Car_Category_cat  \\\n",
       "count  11139.000000  11139.000000  11139.000000      11139.000000   \n",
       "mean      42.934016      0.784810      0.784810          6.965796   \n",
       "std       11.759793      0.553737      0.553737          2.375278   \n",
       "min       19.000000      0.000000      0.000000          0.000000   \n",
       "25%       35.000000      0.000000      0.000000          8.000000   \n",
       "50%       41.000000      1.000000      1.000000          8.000000   \n",
       "75%       50.000000      1.000000      1.000000          8.000000   \n",
       "max       93.000000      2.000000      2.000000         15.000000   \n",
       "\n",
       "       Subject_Car_Colour_cat  Subject_Car_Make_cat  LGA_Name_cat  \\\n",
       "count            11139.000000          11139.000000  11139.000000   \n",
       "mean                 8.754825             49.869198    201.726457   \n",
       "std                 10.629240             16.444715     69.703088   \n",
       "min                  0.000000              0.000000      0.000000   \n",
       "25%                  4.000000             36.000000    157.000000   \n",
       "50%                  4.000000             61.000000    245.000000   \n",
       "75%                  4.000000             61.000000    245.000000   \n",
       "max                 43.000000             66.000000    255.000000   \n",
       "\n",
       "          State_cat  ProductName_cat  \n",
       "count  11139.000000     11139.000000  \n",
       "mean      66.774306         2.548344  \n",
       "std       18.313197         2.014731  \n",
       "min        0.000000         0.000000  \n",
       "25%       73.000000         1.000000  \n",
       "50%       73.000000         1.000000  \n",
       "75%       73.000000         5.000000  \n",
       "max      110.000000         8.000000  "
      ]
     },
     "execution_count": 53,
     "metadata": {},
     "output_type": "execute_result"
    }
   ],
   "source": [
    "vehicle.describe()"
   ]
  },
  {
   "cell_type": "code",
   "execution_count": 71,
   "metadata": {},
   "outputs": [
    {
     "name": "stderr",
     "output_type": "stream",
     "text": [
      "<ipython-input-71-2bbbfe921b03>:7: SettingWithCopyWarning: \n",
      "A value is trying to be set on a copy of a slice from a DataFrame.\n",
      "Try using .loc[row_indexer,col_indexer] = value instead\n",
      "\n",
      "See the caveats in the documentation: https://pandas.pydata.org/pandas-docs/stable/user_guide/indexing.html#returning-a-view-versus-a-copy\n",
      "  vehicle[cols_to_norm]=min_max_scaler.fit_transform(vehicle[cols_to_norm])\n",
      "C:\\Users\\augustine ugbeda\\anaconda3\\lib\\site-packages\\pandas\\core\\indexing.py:1736: SettingWithCopyWarning: \n",
      "A value is trying to be set on a copy of a slice from a DataFrame.\n",
      "Try using .loc[row_indexer,col_indexer] = value instead\n",
      "\n",
      "See the caveats in the documentation: https://pandas.pydata.org/pandas-docs/stable/user_guide/indexing.html#returning-a-view-versus-a-copy\n",
      "  isetter(loc, value[:, i].tolist())\n"
     ]
    }
   ],
   "source": [
    "##scale some columns in our dataset to normalise,(do not scale target column(No_of_claims_3_mon_period))most \n",
    "#machine learning classifiers prefer this\n",
    "from sklearn import preprocessing\n",
    "min_max_scaler=preprocessing.MinMaxScaler()\n",
    "cols_to_norm=[\"Age\",\"Gender_cat\",\"No_Pol_cat\",\"Car_Category_cat\",\"Subject_Car_Colour_cat\",\"Subject_Car_Make_cat\",\"LGA_Name_cat\",\"State_cat\",\"ProductName_cat\"\n",
    "                         ]\n",
    "vehicle[cols_to_norm]=min_max_scaler.fit_transform(vehicle[cols_to_norm])"
   ]
  },
  {
   "cell_type": "code",
   "execution_count": 72,
   "metadata": {},
   "outputs": [
    {
     "data": {
      "text/html": [
       "<div>\n",
       "<style scoped>\n",
       "    .dataframe tbody tr th:only-of-type {\n",
       "        vertical-align: middle;\n",
       "    }\n",
       "\n",
       "    .dataframe tbody tr th {\n",
       "        vertical-align: top;\n",
       "    }\n",
       "\n",
       "    .dataframe thead th {\n",
       "        text-align: right;\n",
       "    }\n",
       "</style>\n",
       "<table border=\"1\" class=\"dataframe\">\n",
       "  <thead>\n",
       "    <tr style=\"text-align: right;\">\n",
       "      <th></th>\n",
       "      <th>Age</th>\n",
       "      <th>Gender_cat</th>\n",
       "      <th>No_Pol_cat</th>\n",
       "      <th>Car_Category_cat</th>\n",
       "      <th>Subject_Car_Colour_cat</th>\n",
       "      <th>Subject_Car_Make_cat</th>\n",
       "      <th>LGA_Name_cat</th>\n",
       "      <th>State_cat</th>\n",
       "      <th>ProductName_cat</th>\n",
       "    </tr>\n",
       "  </thead>\n",
       "  <tbody>\n",
       "    <tr>\n",
       "      <th>count</th>\n",
       "      <td>11139.000000</td>\n",
       "      <td>11139.000000</td>\n",
       "      <td>11139.000000</td>\n",
       "      <td>11139.000000</td>\n",
       "      <td>11139.000000</td>\n",
       "      <td>11139.000000</td>\n",
       "      <td>11139.000000</td>\n",
       "      <td>11139.000000</td>\n",
       "      <td>11139.000000</td>\n",
       "    </tr>\n",
       "    <tr>\n",
       "      <th>mean</th>\n",
       "      <td>0.323433</td>\n",
       "      <td>0.392405</td>\n",
       "      <td>0.392405</td>\n",
       "      <td>0.464386</td>\n",
       "      <td>0.203601</td>\n",
       "      <td>0.755594</td>\n",
       "      <td>0.791084</td>\n",
       "      <td>0.607039</td>\n",
       "      <td>0.318543</td>\n",
       "    </tr>\n",
       "    <tr>\n",
       "      <th>std</th>\n",
       "      <td>0.158916</td>\n",
       "      <td>0.276869</td>\n",
       "      <td>0.276869</td>\n",
       "      <td>0.158352</td>\n",
       "      <td>0.247192</td>\n",
       "      <td>0.249162</td>\n",
       "      <td>0.273345</td>\n",
       "      <td>0.166484</td>\n",
       "      <td>0.251841</td>\n",
       "    </tr>\n",
       "    <tr>\n",
       "      <th>min</th>\n",
       "      <td>0.000000</td>\n",
       "      <td>0.000000</td>\n",
       "      <td>0.000000</td>\n",
       "      <td>0.000000</td>\n",
       "      <td>0.000000</td>\n",
       "      <td>0.000000</td>\n",
       "      <td>0.000000</td>\n",
       "      <td>0.000000</td>\n",
       "      <td>0.000000</td>\n",
       "    </tr>\n",
       "    <tr>\n",
       "      <th>25%</th>\n",
       "      <td>0.216216</td>\n",
       "      <td>0.000000</td>\n",
       "      <td>0.000000</td>\n",
       "      <td>0.533333</td>\n",
       "      <td>0.093023</td>\n",
       "      <td>0.545455</td>\n",
       "      <td>0.615686</td>\n",
       "      <td>0.663636</td>\n",
       "      <td>0.125000</td>\n",
       "    </tr>\n",
       "    <tr>\n",
       "      <th>50%</th>\n",
       "      <td>0.297297</td>\n",
       "      <td>0.500000</td>\n",
       "      <td>0.500000</td>\n",
       "      <td>0.533333</td>\n",
       "      <td>0.093023</td>\n",
       "      <td>0.924242</td>\n",
       "      <td>0.960784</td>\n",
       "      <td>0.663636</td>\n",
       "      <td>0.125000</td>\n",
       "    </tr>\n",
       "    <tr>\n",
       "      <th>75%</th>\n",
       "      <td>0.418919</td>\n",
       "      <td>0.500000</td>\n",
       "      <td>0.500000</td>\n",
       "      <td>0.533333</td>\n",
       "      <td>0.093023</td>\n",
       "      <td>0.924242</td>\n",
       "      <td>0.960784</td>\n",
       "      <td>0.663636</td>\n",
       "      <td>0.625000</td>\n",
       "    </tr>\n",
       "    <tr>\n",
       "      <th>max</th>\n",
       "      <td>1.000000</td>\n",
       "      <td>1.000000</td>\n",
       "      <td>1.000000</td>\n",
       "      <td>1.000000</td>\n",
       "      <td>1.000000</td>\n",
       "      <td>1.000000</td>\n",
       "      <td>1.000000</td>\n",
       "      <td>1.000000</td>\n",
       "      <td>1.000000</td>\n",
       "    </tr>\n",
       "  </tbody>\n",
       "</table>\n",
       "</div>"
      ],
      "text/plain": [
       "                Age    Gender_cat    No_Pol_cat  Car_Category_cat  \\\n",
       "count  11139.000000  11139.000000  11139.000000      11139.000000   \n",
       "mean       0.323433      0.392405      0.392405          0.464386   \n",
       "std        0.158916      0.276869      0.276869          0.158352   \n",
       "min        0.000000      0.000000      0.000000          0.000000   \n",
       "25%        0.216216      0.000000      0.000000          0.533333   \n",
       "50%        0.297297      0.500000      0.500000          0.533333   \n",
       "75%        0.418919      0.500000      0.500000          0.533333   \n",
       "max        1.000000      1.000000      1.000000          1.000000   \n",
       "\n",
       "       Subject_Car_Colour_cat  Subject_Car_Make_cat  LGA_Name_cat  \\\n",
       "count            11139.000000          11139.000000  11139.000000   \n",
       "mean                 0.203601              0.755594      0.791084   \n",
       "std                  0.247192              0.249162      0.273345   \n",
       "min                  0.000000              0.000000      0.000000   \n",
       "25%                  0.093023              0.545455      0.615686   \n",
       "50%                  0.093023              0.924242      0.960784   \n",
       "75%                  0.093023              0.924242      0.960784   \n",
       "max                  1.000000              1.000000      1.000000   \n",
       "\n",
       "          State_cat  ProductName_cat  \n",
       "count  11139.000000     11139.000000  \n",
       "mean       0.607039         0.318543  \n",
       "std        0.166484         0.251841  \n",
       "min        0.000000         0.000000  \n",
       "25%        0.663636         0.125000  \n",
       "50%        0.663636         0.125000  \n",
       "75%        0.663636         0.625000  \n",
       "max        1.000000         1.000000  "
      ]
     },
     "execution_count": 72,
     "metadata": {},
     "output_type": "execute_result"
    }
   ],
   "source": [
    "vehicle.describe()"
   ]
  },
  {
   "cell_type": "code",
   "execution_count": null,
   "metadata": {},
   "outputs": [],
   "source": [
    "### calculating correlation matrix"
   ]
  },
  {
   "cell_type": "code",
   "execution_count": 73,
   "metadata": {},
   "outputs": [
    {
     "data": {
      "text/html": [
       "<div>\n",
       "<style scoped>\n",
       "    .dataframe tbody tr th:only-of-type {\n",
       "        vertical-align: middle;\n",
       "    }\n",
       "\n",
       "    .dataframe tbody tr th {\n",
       "        vertical-align: top;\n",
       "    }\n",
       "\n",
       "    .dataframe thead th {\n",
       "        text-align: right;\n",
       "    }\n",
       "</style>\n",
       "<table border=\"1\" class=\"dataframe\">\n",
       "  <thead>\n",
       "    <tr style=\"text-align: right;\">\n",
       "      <th></th>\n",
       "      <th>Age</th>\n",
       "      <th>Gender_cat</th>\n",
       "      <th>No_Pol_cat</th>\n",
       "      <th>Car_Category_cat</th>\n",
       "      <th>Subject_Car_Colour_cat</th>\n",
       "      <th>Subject_Car_Make_cat</th>\n",
       "      <th>LGA_Name_cat</th>\n",
       "      <th>State_cat</th>\n",
       "      <th>ProductName_cat</th>\n",
       "    </tr>\n",
       "  </thead>\n",
       "  <tbody>\n",
       "    <tr>\n",
       "      <th>Age</th>\n",
       "      <td>1.000000</td>\n",
       "      <td>-0.041600</td>\n",
       "      <td>-0.041600</td>\n",
       "      <td>-0.135818</td>\n",
       "      <td>-0.055224</td>\n",
       "      <td>-0.060232</td>\n",
       "      <td>-0.074961</td>\n",
       "      <td>-0.037564</td>\n",
       "      <td>0.021320</td>\n",
       "    </tr>\n",
       "    <tr>\n",
       "      <th>Gender_cat</th>\n",
       "      <td>-0.041600</td>\n",
       "      <td>1.000000</td>\n",
       "      <td>1.000000</td>\n",
       "      <td>0.088058</td>\n",
       "      <td>-0.018300</td>\n",
       "      <td>0.001533</td>\n",
       "      <td>0.002059</td>\n",
       "      <td>0.010828</td>\n",
       "      <td>0.073265</td>\n",
       "    </tr>\n",
       "    <tr>\n",
       "      <th>No_Pol_cat</th>\n",
       "      <td>-0.041600</td>\n",
       "      <td>1.000000</td>\n",
       "      <td>1.000000</td>\n",
       "      <td>0.088058</td>\n",
       "      <td>-0.018300</td>\n",
       "      <td>0.001533</td>\n",
       "      <td>0.002059</td>\n",
       "      <td>0.010828</td>\n",
       "      <td>0.073265</td>\n",
       "    </tr>\n",
       "    <tr>\n",
       "      <th>Car_Category_cat</th>\n",
       "      <td>-0.135818</td>\n",
       "      <td>0.088058</td>\n",
       "      <td>0.088058</td>\n",
       "      <td>1.000000</td>\n",
       "      <td>-0.053710</td>\n",
       "      <td>0.164877</td>\n",
       "      <td>0.123798</td>\n",
       "      <td>0.064763</td>\n",
       "      <td>0.133522</td>\n",
       "    </tr>\n",
       "    <tr>\n",
       "      <th>Subject_Car_Colour_cat</th>\n",
       "      <td>-0.055224</td>\n",
       "      <td>-0.018300</td>\n",
       "      <td>-0.018300</td>\n",
       "      <td>-0.053710</td>\n",
       "      <td>1.000000</td>\n",
       "      <td>-0.034227</td>\n",
       "      <td>-0.083334</td>\n",
       "      <td>-0.029274</td>\n",
       "      <td>-0.294261</td>\n",
       "    </tr>\n",
       "    <tr>\n",
       "      <th>Subject_Car_Make_cat</th>\n",
       "      <td>-0.060232</td>\n",
       "      <td>0.001533</td>\n",
       "      <td>0.001533</td>\n",
       "      <td>0.164877</td>\n",
       "      <td>-0.034227</td>\n",
       "      <td>1.000000</td>\n",
       "      <td>0.072923</td>\n",
       "      <td>0.023993</td>\n",
       "      <td>-0.005951</td>\n",
       "    </tr>\n",
       "    <tr>\n",
       "      <th>LGA_Name_cat</th>\n",
       "      <td>-0.074961</td>\n",
       "      <td>0.002059</td>\n",
       "      <td>0.002059</td>\n",
       "      <td>0.123798</td>\n",
       "      <td>-0.083334</td>\n",
       "      <td>0.072923</td>\n",
       "      <td>1.000000</td>\n",
       "      <td>0.587480</td>\n",
       "      <td>0.292166</td>\n",
       "    </tr>\n",
       "    <tr>\n",
       "      <th>State_cat</th>\n",
       "      <td>-0.037564</td>\n",
       "      <td>0.010828</td>\n",
       "      <td>0.010828</td>\n",
       "      <td>0.064763</td>\n",
       "      <td>-0.029274</td>\n",
       "      <td>0.023993</td>\n",
       "      <td>0.587480</td>\n",
       "      <td>1.000000</td>\n",
       "      <td>0.174188</td>\n",
       "    </tr>\n",
       "    <tr>\n",
       "      <th>ProductName_cat</th>\n",
       "      <td>0.021320</td>\n",
       "      <td>0.073265</td>\n",
       "      <td>0.073265</td>\n",
       "      <td>0.133522</td>\n",
       "      <td>-0.294261</td>\n",
       "      <td>-0.005951</td>\n",
       "      <td>0.292166</td>\n",
       "      <td>0.174188</td>\n",
       "      <td>1.000000</td>\n",
       "    </tr>\n",
       "  </tbody>\n",
       "</table>\n",
       "</div>"
      ],
      "text/plain": [
       "                             Age  Gender_cat  No_Pol_cat  Car_Category_cat  \\\n",
       "Age                     1.000000   -0.041600   -0.041600         -0.135818   \n",
       "Gender_cat             -0.041600    1.000000    1.000000          0.088058   \n",
       "No_Pol_cat             -0.041600    1.000000    1.000000          0.088058   \n",
       "Car_Category_cat       -0.135818    0.088058    0.088058          1.000000   \n",
       "Subject_Car_Colour_cat -0.055224   -0.018300   -0.018300         -0.053710   \n",
       "Subject_Car_Make_cat   -0.060232    0.001533    0.001533          0.164877   \n",
       "LGA_Name_cat           -0.074961    0.002059    0.002059          0.123798   \n",
       "State_cat              -0.037564    0.010828    0.010828          0.064763   \n",
       "ProductName_cat         0.021320    0.073265    0.073265          0.133522   \n",
       "\n",
       "                        Subject_Car_Colour_cat  Subject_Car_Make_cat  \\\n",
       "Age                                  -0.055224             -0.060232   \n",
       "Gender_cat                           -0.018300              0.001533   \n",
       "No_Pol_cat                           -0.018300              0.001533   \n",
       "Car_Category_cat                     -0.053710              0.164877   \n",
       "Subject_Car_Colour_cat                1.000000             -0.034227   \n",
       "Subject_Car_Make_cat                 -0.034227              1.000000   \n",
       "LGA_Name_cat                         -0.083334              0.072923   \n",
       "State_cat                            -0.029274              0.023993   \n",
       "ProductName_cat                      -0.294261             -0.005951   \n",
       "\n",
       "                        LGA_Name_cat  State_cat  ProductName_cat  \n",
       "Age                        -0.074961  -0.037564         0.021320  \n",
       "Gender_cat                  0.002059   0.010828         0.073265  \n",
       "No_Pol_cat                  0.002059   0.010828         0.073265  \n",
       "Car_Category_cat            0.123798   0.064763         0.133522  \n",
       "Subject_Car_Colour_cat     -0.083334  -0.029274        -0.294261  \n",
       "Subject_Car_Make_cat        0.072923   0.023993        -0.005951  \n",
       "LGA_Name_cat                1.000000   0.587480         0.292166  \n",
       "State_cat                   0.587480   1.000000         0.174188  \n",
       "ProductName_cat             0.292166   0.174188         1.000000  "
      ]
     },
     "execution_count": 73,
     "metadata": {},
     "output_type": "execute_result"
    }
   ],
   "source": [
    "vehicle_corr=vehicle.corr()\n",
    "vehicle_corr"
   ]
  },
  {
   "cell_type": "markdown",
   "metadata": {},
   "source": [
    "#### visualization to show correlation between variables"
   ]
  },
  {
   "cell_type": "code",
   "execution_count": 74,
   "metadata": {},
   "outputs": [
    {
     "data": {
      "text/plain": [
       "<AxesSubplot:>"
      ]
     },
     "execution_count": 74,
     "metadata": {},
     "output_type": "execute_result"
    },
    {
     "data": {
      "image/png": "[encoded data removed]",
      "text/plain": [
       "<Figure size 720x720 with 2 Axes>"
      ]
     },
     "metadata": {
      "needs_background": "light"
     },
     "output_type": "display_data"
    }
   ],
   "source": [
    "\n",
    "plt.figure(figsize=(10,10))\n",
    "sns.heatmap(vehicle_corr,annot=True)"
   ]
  },
  {
   "cell_type": "markdown",
   "metadata": {},
   "source": [
    "#### splitting our dataset into two"
   ]
  },
  {
   "cell_type": "code",
   "execution_count": 79,
   "metadata": {},
   "outputs": [],
   "source": [
    "from sklearn.model_selection import train_test_split\n",
    "from sklearn.linear_model import LogisticRegression\n",
    "from sklearn.naive_bayes import GaussianNB\n",
    "from sklearn.svm import SVC\n",
    "svclassifier = SVC(kernel='linear',probability=True)\n",
    "from sklearn.tree import DecisionTreeClassifier\n",
    "from sklearn.ensemble import RandomForestClassifier\n",
    "from sklearn.ensemble import GradientBoostingClassifier\n",
    "from sklearn.neighbors import KNeighborsClassifier\n",
    "from sklearn.ensemble import AdaBoostClassifier\n",
    "from sklearn.metrics import accuracy_score\n",
    "from sklearn.metrics import roc_auc_score\n",
    "from sklearn.metrics import roc_curve \n",
    "from sklearn.metrics import confusion_matrix\n",
    "from sklearn.model_selection import cross_val_score"
   ]
  },
  {
   "cell_type": "code",
   "execution_count": 75,
   "metadata": {},
   "outputs": [],
   "source": [
    "# x are all our features (after droping our target \"No_of_claims_3_mon_period\")\n",
    "# y is the target we are trying to predict (\"No_of_claims_3_mon_period\")\n",
    "x = vehicle.drop(\"No_of_claims_3_mon_period\", axis=1)\n",
    "y = vehicle[\"No_of_claims_3_mon_period\"]"
   ]
  },
  {
   "cell_type": "code",
   "execution_count": 80,
   "metadata": {},
   "outputs": [],
   "source": [
    " \n",
    "\n",
    "#1. Training data to train all our classifiers on real data and\n",
    "#2. Test data to evaluate their performance on unseen data\n",
    "\n",
    "x_train,x_test,y_train,y_test = train_test_split(x,y,test_size=0.2,random_state=0)\n",
    "\n",
    "#Test size is 0.2 means we would be training each of our \n",
    "#classifiers with 80% of the data and validating them with the \n",
    "#remaining 20%.\n",
    "\n",
    "# x_train - 80% of the features for training our classifiers algorithms\n",
    "# y_train - 80% of the corresponding target(No_of_claims_3_mon_period) for\n",
    "#training our classifiers algorithms\n",
    "\n",
    "# x_test - Remaining 20% of our features for testing the performance \n",
    "#of our classifiers from the training phase above by producing - \"y_pred\".\n",
    "\n",
    "# y_test - Remaining 20% of the corresponding target. Used in comparing\n",
    "#actuals (y_test) with y_pred (predictions made)\n",
    "\n",
    "#Random state guarantee that same sequence of random numbers are\n",
    "#generated for training each of our classifiers"
   ]
  },
  {
   "cell_type": "code",
   "execution_count": 81,
   "metadata": {},
   "outputs": [
    {
     "data": {
      "text/plain": [
       "(8911, 9)"
      ]
     },
     "execution_count": 81,
     "metadata": {},
     "output_type": "execute_result"
    }
   ],
   "source": [
    "x_train.shape"
   ]
  },
  {
   "cell_type": "code",
   "execution_count": 83,
   "metadata": {},
   "outputs": [
    {
     "data": {
      "text/plain": [
       "(8911,)"
      ]
     },
     "execution_count": 83,
     "metadata": {},
     "output_type": "execute_result"
    }
   ],
   "source": [
    "y_train.shape#80% of target variable (No_of_claims_3_mon_period) - 8911 records"
   ]
  },
  {
   "cell_type": "code",
   "execution_count": 84,
   "metadata": {},
   "outputs": [
    {
     "data": {
      "text/plain": [
       "(2228, 9)"
      ]
     },
     "execution_count": 84,
     "metadata": {},
     "output_type": "execute_result"
    }
   ],
   "source": [
    "x_test.shape"
   ]
  },
  {
   "cell_type": "code",
   "execution_count": 85,
   "metadata": {},
   "outputs": [
    {
     "data": {
      "text/plain": [
       "(2228,)"
      ]
     },
     "execution_count": 85,
     "metadata": {},
     "output_type": "execute_result"
    }
   ],
   "source": [
    "#20% of target variable (Outcome) - 2228 records\n",
    "y_test.shape"
   ]
  },
  {
   "cell_type": "markdown",
   "metadata": {},
   "source": [
    "implementing machine learning algorithms on dataset"
   ]
  },
  {
   "cell_type": "code",
   "execution_count": 86,
   "metadata": {},
   "outputs": [],
   "source": [
    "#Define the Machine Learning Classifiers\n",
    "lr = LogisticRegression() \n",
    "gs = GaussianNB()\n",
    "sv = SVC(kernel='rbf', random_state=0)\n",
    "gb= GradientBoostingClassifier(learning_rate=0.1, n_estimators=100)\n",
    "kn = KNeighborsClassifier(n_neighbors = 18) \n",
    "ad = AdaBoostClassifier(n_estimators=100, random_state=0)\n",
    "dt = DecisionTreeClassifier()\n",
    "rf = RandomForestClassifier(n_estimators = 70)"
   ]
  },
  {
   "cell_type": "code",
   "execution_count": 87,
   "metadata": {},
   "outputs": [],
   "source": [
    "#Fit function trains all our machine learning classifiers on 80% of our data.\n",
    "lr.fit(x_train, y_train);\n",
    "gs.fit(x_train, y_train);\n",
    "svclassifier.fit(x_train, y_train);\n",
    "gb.fit(x_train,y_train);\n",
    "kn.fit(x_train,y_train);\n",
    "ad.fit(x_train,y_train);\n",
    "dt.fit(x_train, y_train);\n",
    "rf.fit(x_train, y_train);"
   ]
  },
  {
   "cell_type": "code",
   "execution_count": 89,
   "metadata": {},
   "outputs": [
    {
     "name": "stdout",
     "output_type": "stream",
     "text": [
      "Training_score_LogisticRegression :  0.8835147570418583\n",
      "Training_score_GaussianNB :  0.8190999887779149\n",
      "Training_score_SVC :  0.8835147570418583\n",
      "Training_score_GradientBoostingClassifier :  0.8871058242621479\n",
      "Training_score_KNeighborsClassifie :  0.8859836157558074\n",
      "Training_score_ AdaBoostClassifier:  0.8854225115026372\n",
      "Training_score_DecisionTree :  0.9414207159690271\n",
      "Training_score_randomForest :  0.941308495118393\n"
     ]
    }
   ],
   "source": [
    "#Get individual classifiers training scores\n",
    "print(\"Training_score_LogisticRegression : \" , lr.score(x_train, y_train))\n",
    "print(\"Training_score_GaussianNB : \" , gs.score(x_train, y_train))\n",
    "print(\"Training_score_SVC : \" , svclassifier.score(x_train, y_train))\n",
    "print(\"Training_score_GradientBoostingClassifier : \" , gb.score(x_train, y_train))\n",
    "print(\"Training_score_KNeighborsClassifier : \" , kn.score(x_train, y_train))\n",
    "print(\"Training_score_ AdaBoostClassifier: \" , ad.score(x_train, y_train))\n",
    "print(\"Training_score_DecisionTree : \" , dt.score(x_train, y_train))\n",
    "print(\"Training_score_randomForest : \" , rf.score(x_train, y_train))"
   ]
  },
  {
   "cell_type": "markdown",
   "metadata": {},
   "source": [
    "#### TESTING FOR ALL OUR CLASSIFIERS"
   ]
  },
  {
   "cell_type": "code",
   "execution_count": 90,
   "metadata": {},
   "outputs": [],
   "source": [
    "# Predict targets for unseen dataset (x_test) by using all our classifiers\n",
    "y_pred1 = lr.predict(x_test)\n",
    "y_pred2 = gs.predict(x_test)\n",
    "y_pred3 = svclassifier.predict(x_test)\n",
    "y_pred4 = gb.predict(x_test)\n",
    "y_pred5 = kn.predict(x_test)\n",
    "y_pred6 = ad.predict(x_test)\n",
    "y_pred7 = dt.predict(x_test)\n",
    "y_pred8 = rf.predict(x_test)"
   ]
  },
  {
   "cell_type": "code",
   "execution_count": 91,
   "metadata": {},
   "outputs": [
    {
     "name": "stdout",
     "output_type": "stream",
     "text": [
      "Testing_score_LogisticRegression :  0.8747755834829444\n",
      "Testing_score_GaussianNB :  0.8105924596050269\n",
      "Testing_score_SVC :  0.8752244165170556\n",
      "Testing_score_GradientBoostingClassifier :  0.8761220825852782\n",
      "Testing_score_KNeighborsClassifier :  0.8720825852782765\n",
      "Testing_score_AdaBoostClassifier :  0.8734290843806104\n",
      "Testing_score_DecisionTree :  0.822262118491921\n",
      "Testing_score_randomForest :  0.8451526032315978\n"
     ]
    }
   ],
   "source": [
    "# Get accuracy score which show the predictive power of each \n",
    "#classifier at classifying correct 'outcome'(WHETHER THERE WILL BE AN INSURANCE CLAIM IN 3 MONTHS OR NOT)\n",
    "print(\"Testing_score_LogisticRegression : \", accuracy_score(y_test, y_pred1))\n",
    "print(\"Testing_score_GaussianNB : \", accuracy_score(y_test, y_pred2))\n",
    "print(\"Testing_score_SVC : \", accuracy_score(y_test, y_pred3))\n",
    "print(\"Testing_score_GradientBoostingClassifier : \", accuracy_score(y_test, y_pred4))\n",
    "print(\"Testing_score_KNeighborsClassifier : \", accuracy_score(y_test, y_pred5))\n",
    "print(\"Testing_score_AdaBoostClassifier : \", accuracy_score(y_test, y_pred6))\n",
    "print(\"Testing_score_DecisionTree : \", accuracy_score(y_test, y_pred7))\n",
    "print(\"Testing_score_randomForest : \", accuracy_score(y_test, y_pred8))\n"
   ]
  },
  {
   "cell_type": "markdown",
   "metadata": {},
   "source": [
    "from the above we can say that most of the classifiers are okay to use since they have consistent test and training scores except random forest and decisiomn tree.for the purpose of this work,i will use gradient boosting classifier"
   ]
  },
  {
   "cell_type": "code",
   "execution_count": 93,
   "metadata": {},
   "outputs": [
    {
     "name": "stdout",
     "output_type": "stream",
     "text": [
      "Accuracy of the GBM on training set: 0.89\n"
     ]
    },
    {
     "data": {
      "image/png": "[encoded data removed]",
      "text/plain": [
       "<Figure size 432x288 with 1 Axes>"
      ]
     },
     "metadata": {
      "needs_background": "light"
     },
     "output_type": "display_data"
    }
   ],
   "source": [
    "### Get important features in the training set using our best \n",
    "# model - Gradient Boosting Classifier\n",
    "predictors=list(x_train)\n",
    "feat_imp = pd.Series(gb.feature_importances_, predictors).sort_values(ascending=False)\n",
    "feat_imp.plot(kind='bar', title='Importance of Features')\n",
    "plt.ylabel('Feature Importance Score')\n",
    "\n",
    "#Re-print accuracy of Gradient Boosting in the training phase.\n",
    "print('Accuracy of the GBM on training set: {:.2f}'.format(gb.score(x_train, y_train)))\n",
    "\n",
    "#product name, Age  and car colour are the only important features, \n",
    "#but Boosting help us to combine the other weak learners \n",
    "#into a single strong learner."
   ]
  },
  {
   "cell_type": "code",
   "execution_count": 95,
   "metadata": {},
   "outputs": [],
   "source": [
    "#Extract the predictions OF OUR  ML CLASSIFIER into a dataframe\n",
    "gb_results = pd.DataFrame({'y_test': y_test,\n",
    "                             'y_pred': y_pred4})"
   ]
  },
  {
   "cell_type": "code",
   "execution_count": 96,
   "metadata": {},
   "outputs": [
    {
     "data": {
      "text/plain": [
       "0    2216\n",
       "1      12\n",
       "Name: y_pred, dtype: int64"
      ]
     },
     "execution_count": 96,
     "metadata": {},
     "output_type": "execute_result"
    }
   ],
   "source": [
    "gb_results['y_pred'].value_counts()"
   ]
  },
  {
   "cell_type": "code",
   "execution_count": 97,
   "metadata": {},
   "outputs": [
    {
     "name": "stdout",
     "output_type": "stream",
     "text": [
      "[[   0 2216]\n",
      " [   1   12]]\n"
     ]
    }
   ],
   "source": [
    "unique, counts = np.unique(y_pred4, return_counts = True)\n",
    "print(np.asarray((unique, counts)).T)"
   ]
  },
  {
   "cell_type": "code",
   "execution_count": 98,
   "metadata": {},
   "outputs": [
    {
     "data": {
      "text/html": [
       "<div>\n",
       "<style scoped>\n",
       "    .dataframe tbody tr th:only-of-type {\n",
       "        vertical-align: middle;\n",
       "    }\n",
       "\n",
       "    .dataframe tbody tr th {\n",
       "        vertical-align: top;\n",
       "    }\n",
       "\n",
       "    .dataframe thead th {\n",
       "        text-align: right;\n",
       "    }\n",
       "</style>\n",
       "<table border=\"1\" class=\"dataframe\">\n",
       "  <thead>\n",
       "    <tr style=\"text-align: right;\">\n",
       "      <th></th>\n",
       "      <th>y_test</th>\n",
       "      <th>y_pred</th>\n",
       "    </tr>\n",
       "  </thead>\n",
       "  <tbody>\n",
       "    <tr>\n",
       "      <th>845</th>\n",
       "      <td>0</td>\n",
       "      <td>0</td>\n",
       "    </tr>\n",
       "    <tr>\n",
       "      <th>1404</th>\n",
       "      <td>0</td>\n",
       "      <td>0</td>\n",
       "    </tr>\n",
       "    <tr>\n",
       "      <th>7853</th>\n",
       "      <td>0</td>\n",
       "      <td>0</td>\n",
       "    </tr>\n",
       "    <tr>\n",
       "      <th>7449</th>\n",
       "      <td>1</td>\n",
       "      <td>0</td>\n",
       "    </tr>\n",
       "    <tr>\n",
       "      <th>6678</th>\n",
       "      <td>0</td>\n",
       "      <td>0</td>\n",
       "    </tr>\n",
       "    <tr>\n",
       "      <th>...</th>\n",
       "      <td>...</td>\n",
       "      <td>...</td>\n",
       "    </tr>\n",
       "    <tr>\n",
       "      <th>6989</th>\n",
       "      <td>0</td>\n",
       "      <td>0</td>\n",
       "    </tr>\n",
       "    <tr>\n",
       "      <th>7904</th>\n",
       "      <td>0</td>\n",
       "      <td>0</td>\n",
       "    </tr>\n",
       "    <tr>\n",
       "      <th>9094</th>\n",
       "      <td>0</td>\n",
       "      <td>0</td>\n",
       "    </tr>\n",
       "    <tr>\n",
       "      <th>36</th>\n",
       "      <td>0</td>\n",
       "      <td>0</td>\n",
       "    </tr>\n",
       "    <tr>\n",
       "      <th>1753</th>\n",
       "      <td>0</td>\n",
       "      <td>0</td>\n",
       "    </tr>\n",
       "  </tbody>\n",
       "</table>\n",
       "<p>2228 rows × 2 columns</p>\n",
       "</div>"
      ],
      "text/plain": [
       "     y_test  y_pred\n",
       "845       0       0\n",
       "1404      0       0\n",
       "7853      0       0\n",
       "7449      1       0\n",
       "6678      0       0\n",
       "...     ...     ...\n",
       "6989      0       0\n",
       "7904      0       0\n",
       "9094      0       0\n",
       "36        0       0\n",
       "1753      0       0\n",
       "\n",
       "[2228 rows x 2 columns]"
      ]
     },
     "execution_count": 98,
     "metadata": {},
     "output_type": "execute_result"
    }
   ],
   "source": [
    "gb_results"
   ]
  },
  {
   "cell_type": "code",
   "execution_count": 99,
   "metadata": {},
   "outputs": [
    {
     "name": "stdout",
     "output_type": "stream",
     "text": [
      "[[1945    5]\n",
      " [ 271    7]]\n"
     ]
    }
   ],
   "source": [
    "#Get the confusion matrix\n",
    "cf_matrix = confusion_matrix(y_test, y_pred4)\n",
    "print(cf_matrix)"
   ]
  },
  {
   "cell_type": "markdown",
   "metadata": {},
   "source": [
    "k-Fold Cross Validation using the Gradient Boosting Classifier\n",
    "K-fold Cross Validation(CV) divide the data into folds and ensure that each fold is used as a testing set at some point. (This ensures all folds have equal chance of featuring as test set and train set at some point)."
   ]
  },
  {
   "cell_type": "code",
   "execution_count": 101,
   "metadata": {},
   "outputs": [
    {
     "name": "stdout",
     "output_type": "stream",
     "text": [
      "Accuracy: 88.20% (0.71%)\n"
     ]
    }
   ],
   "source": [
    "# Evaluate the Gradiant Boosting Classifier With k-Fold Cross Validation\n",
    "from sklearn.model_selection import KFold\n",
    "kfold = KFold(n_splits=10, random_state=None)\n",
    "results = cross_val_score(gb, x, y, cv=kfold)\n",
    "print(\"Accuracy: %.2f%% (%.2f%%)\" % (results.mean()*100,results.std()*100))"
   ]
  },
  {
   "cell_type": "markdown",
   "metadata": {},
   "source": [
    "#### ROC AUC Plots to Evaluate the Performance of all our Classifiers"
   ]
  },
  {
   "cell_type": "markdown",
   "metadata": {},
   "source": [
    "#It is a plot of the false positive rate (x-axis) versus the true positive rate (y-axis) for a number #of different candidate threshold values between 0.0 and 1.0."
   ]
  },
  {
   "cell_type": "code",
   "execution_count": 102,
   "metadata": {},
   "outputs": [
    {
     "data": {
      "image/png": "[encoded data removed]",
      "text/plain": [
       "<Figure size 720x360 with 1 Axes>"
      ]
     },
     "metadata": {
      "needs_background": "light"
     },
     "output_type": "display_data"
    }
   ],
   "source": [
    "#calculate values for ROC AUC plot\n",
    "gb_roc_auc = roc_auc_score(y_test, gb.predict(x_test))\n",
    "fprgb, tprgb, thresholdsgb = roc_curve(y_test, gb.predict_proba(x_test)[:,1])\n",
    "\n",
    "lr_roc_auc = roc_auc_score(y_test, lr.predict(x_test))\n",
    "fprlr, tprlr, thresholdslr = roc_curve(y_test, lr.predict_proba(x_test)[:,1])\n",
    "\n",
    "gs_roc_auc = roc_auc_score(y_test, gs.predict(x_test))\n",
    "fprgs, tprgs, thresholdsgs = roc_curve(y_test, gs.predict_proba(x_test)[:,1])\n",
    "\n",
    "ad_roc_auc = roc_auc_score(y_test, ad.predict(x_test))\n",
    "fprad, tprad, thresholdsad = roc_curve(y_test, ad.predict_proba(x_test)[:,1])\n",
    "\n",
    "kn_roc_auc = roc_auc_score(y_test, kn.predict(x_test))\n",
    "fprkn, tprkn, thresholdskn = roc_curve(y_test, kn.predict_proba(x_test)[:,1])\n",
    "\n",
    "dt_roc_auc = roc_auc_score(y_test, dt.predict(x_test))\n",
    "fprdt, tprdt, thresholdsdt = roc_curve(y_test, dt.predict_proba(x_test)[:,1])\n",
    "\n",
    "rf_roc_auc = roc_auc_score(y_test, rf.predict(x_test))\n",
    "fprrf, tprrf, threshozldsrt = roc_curve(y_test, rf.predict_proba(x_test)[:,1])\n",
    "\n",
    "svclassifier_roc_auc = roc_auc_score(y_test, svclassifier.predict(x_test))\n",
    "fprsv, tprsv, thresholdssv = roc_curve(y_test, svclassifier.predict_proba(x_test)[:,1])\n",
    "\n",
    "\n",
    "plt.figure(figsize=(10,5))\n",
    "plt.plot(fprgb, tprgb, label='Gradient Boosting Classifier (area = %0.2f)' % gb_roc_auc)\n",
    "plt.plot(fprlr, tprlr, label='Logistics Regression Classifier (area = %0.2f)' % lr_roc_auc)\n",
    "plt.plot(fprgs, tprgs, label='Guassian Naive Bayes Model (area = %0.2f)' % gs_roc_auc)\n",
    "plt.plot(fprsv, tprsv, label='Support Vector Classifier Model (area = %0.2f)' % svclassifier_roc_auc)\n",
    "plt.plot(fprad, tprad, label='Adaboost Model (area = %0.2f)' % ad_roc_auc)\n",
    "plt.plot(fprkn, tprkn, label='K-Nearest Neighbour Model (area = %0.2f)' % kn_roc_auc)\n",
    "plt.plot(fprdt, tprdt, label='Decision Tree Classifier (area = %0.2f)' % dt_roc_auc)\n",
    "plt.plot(fprrf, tprrf, label='Random Forest Classifier (area = %0.2f)' % rf_roc_auc)\n",
    "\n",
    "plt.plot([0, 1], [0, 1],'r--')\n",
    "plt.xlim([0.0, 1.0])\n",
    "plt.ylim([0.0, 1.05])\n",
    "plt.xlabel('False Positive Rate')\n",
    "plt.ylabel('True Positive Rate')\n",
    "plt.title('Receiver Operating characteristic')\n",
    "plt.legend(loc=\"lower right\")\n",
    "plt.savefig('Log_ROC')\n",
    "plt.show()"
   ]
  },
  {
   "cell_type": "markdown",
   "metadata": {},
   "source": [
    "#ROC AUC: It tells how much model is capable of seperating classes. #Higher the AUC, better the model is at predicting 0s as 0s and 1s as 1s. #By analogy, Higher the AUC, better the model is at distinguishing if insurance policy holders will make a claim after a 3 months period."
   ]
  },
  {
   "cell_type": "markdown",
   "metadata": {},
   "source": [
    "Here Again we see that the Gradiant Boosting Classifier has the best ROC AUC (area = 0.9) followed by the logistic regression."
   ]
  }
 ],
 "metadata": {
  "kernelspec": {
   "display_name": "Python 3",
   "language": "python",
   "name": "python3"
  },
  "language_info": {
   "codemirror_mode": {
    "name": "ipython",
    "version": 3
   },
   "file_extension": ".py",
   "mimetype": "text/x-python",
   "name": "python",
   "nbconvert_exporter": "python",
   "pygments_lexer": "ipython3",
   "version": "3.8.5"
  }
 },
 "nbformat": 4,
 "nbformat_minor": 4
}
